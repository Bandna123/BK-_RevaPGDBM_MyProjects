{
  "nbformat": 4,
  "nbformat_minor": 0,
  "metadata": {
    "kernelspec": {
      "display_name": "Python 3",
      "language": "python",
      "name": "python3"
    },
    "language_info": {
      "codemirror_mode": {
        "name": "ipython",
        "version": 3
      },
      "file_extension": ".py",
      "mimetype": "text/x-python",
      "name": "python",
      "nbconvert_exporter": "python",
      "pygments_lexer": "ipython3",
      "version": "3.7.6"
    },
    "colab": {
      "name": "rfm and clustering.ipynb",
      "provenance": [],
      "include_colab_link": true
    }
  },
  "cells": [
    {
      "cell_type": "markdown",
      "metadata": {
        "id": "view-in-github",
        "colab_type": "text"
      },
      "source": [
        "<a href=\"https://colab.research.google.com/github/Bandna123/BK-_RevaPGDBM_MyProjects/blob/master/rfm_and_clustering.ipynb\" target=\"_parent\"><img src=\"https://colab.research.google.com/assets/colab-badge.svg\" alt=\"Open In Colab\"/></a>"
      ]
    },
    {
      "cell_type": "code",
      "metadata": {
        "id": "6dOarxmbSCQh",
        "outputId": "2640c8a9-8d98-456a-ac9b-7a175b0fe516"
      },
      "source": [
        "# Importing the dataset\n",
        "import pandas as pd\n",
        "dataset = pd.read_excel(\"cs.xlsx\")\n",
        "dataset.shape\n",
        "dataset.head(5)"
      ],
      "execution_count": null,
      "outputs": [
        {
          "data": {
            "text/html": [
              "<div>\n",
              "<style scoped>\n",
              "    .dataframe tbody tr th:only-of-type {\n",
              "        vertical-align: middle;\n",
              "    }\n",
              "\n",
              "    .dataframe tbody tr th {\n",
              "        vertical-align: top;\n",
              "    }\n",
              "\n",
              "    .dataframe thead th {\n",
              "        text-align: right;\n",
              "    }\n",
              "</style>\n",
              "<table border=\"1\" class=\"dataframe\">\n",
              "  <thead>\n",
              "    <tr style=\"text-align: right;\">\n",
              "      <th></th>\n",
              "      <th>Invoice_No</th>\n",
              "      <th>SKU_Code</th>\n",
              "      <th>Business_Partner</th>\n",
              "      <th>Item_Description</th>\n",
              "      <th>Quantity</th>\n",
              "      <th>Invoice_Date</th>\n",
              "      <th>Unit_Price</th>\n",
              "      <th>Customer_Code</th>\n",
              "      <th>Invoice_Description</th>\n",
              "      <th>Total_Value</th>\n",
              "      <th>Customer_City</th>\n",
              "      <th>State</th>\n",
              "    </tr>\n",
              "  </thead>\n",
              "  <tbody>\n",
              "    <tr>\n",
              "      <th>0</th>\n",
              "      <td>1596180042798</td>\n",
              "      <td>66555338</td>\n",
              "      <td>U K OPTICAL CENTRE</td>\n",
              "      <td>AIROPTIX AQC SPH 6PK  -0400</td>\n",
              "      <td>-1</td>\n",
              "      <td>04-01-2019</td>\n",
              "      <td>883.93</td>\n",
              "      <td>30000041419</td>\n",
              "      <td>wrongly order punched</td>\n",
              "      <td>-883.93</td>\n",
              "      <td>Bangalore</td>\n",
              "      <td>Karnataka</td>\n",
              "    </tr>\n",
              "    <tr>\n",
              "      <th>1</th>\n",
              "      <td>1596180042799</td>\n",
              "      <td>411226</td>\n",
              "      <td>VISION WORLD PVT LTD</td>\n",
              "      <td>OPTIX 6P  -0350</td>\n",
              "      <td>-1</td>\n",
              "      <td>04-01-2019</td>\n",
              "      <td>530.80</td>\n",
              "      <td>30000041496</td>\n",
              "      <td>wrongly order punched</td>\n",
              "      <td>-530.80</td>\n",
              "      <td>Bangalore</td>\n",
              "      <td>Karnataka</td>\n",
              "    </tr>\n",
              "    <tr>\n",
              "      <th>2</th>\n",
              "      <td>1596180042800</td>\n",
              "      <td>66532759</td>\n",
              "      <td>JAWAHAR OPTICIANS</td>\n",
              "      <td>AIROPTIX TORIC 3-PK -0475 125 030</td>\n",
              "      <td>-1</td>\n",
              "      <td>04-01-2019</td>\n",
              "      <td>491.07</td>\n",
              "      <td>30000041081</td>\n",
              "      <td>sales return against no:159618003/8842 dt:25-1...</td>\n",
              "      <td>-491.07</td>\n",
              "      <td>Dharwad</td>\n",
              "      <td>Karnataka</td>\n",
              "    </tr>\n",
              "    <tr>\n",
              "      <th>3</th>\n",
              "      <td>1596180042801</td>\n",
              "      <td>66555185</td>\n",
              "      <td>EYE PLUS OPTICIANS</td>\n",
              "      <td>AIROPTIX AQC SPH 6PK  -0025</td>\n",
              "      <td>-1</td>\n",
              "      <td>04-01-2019</td>\n",
              "      <td>883.93</td>\n",
              "      <td>30000040955</td>\n",
              "      <td>NaN</td>\n",
              "      <td>-883.93</td>\n",
              "      <td>Hubli</td>\n",
              "      <td>Karnataka</td>\n",
              "    </tr>\n",
              "    <tr>\n",
              "      <th>4</th>\n",
              "      <td>1596180042802</td>\n",
              "      <td>545085</td>\n",
              "      <td>MIRLAY EYE CARE</td>\n",
              "      <td>FRESHLOOK 1-D COL 10  -0300  P HAZEL</td>\n",
              "      <td>-1</td>\n",
              "      <td>04-01-2019</td>\n",
              "      <td>441.96</td>\n",
              "      <td>30000041147</td>\n",
              "      <td>customer cancel the order</td>\n",
              "      <td>-441.96</td>\n",
              "      <td>Bangalore</td>\n",
              "      <td>Karnataka</td>\n",
              "    </tr>\n",
              "  </tbody>\n",
              "</table>\n",
              "</div>"
            ],
            "text/plain": [
              "      Invoice_No  SKU_Code      Business_Partner  \\\n",
              "0  1596180042798  66555338    U K OPTICAL CENTRE   \n",
              "1  1596180042799    411226  VISION WORLD PVT LTD   \n",
              "2  1596180042800  66532759     JAWAHAR OPTICIANS   \n",
              "3  1596180042801  66555185    EYE PLUS OPTICIANS   \n",
              "4  1596180042802    545085       MIRLAY EYE CARE   \n",
              "\n",
              "                       Item_Description  Quantity Invoice_Date  Unit_Price  \\\n",
              "0           AIROPTIX AQC SPH 6PK  -0400        -1   04-01-2019      883.93   \n",
              "1                       OPTIX 6P  -0350        -1   04-01-2019      530.80   \n",
              "2     AIROPTIX TORIC 3-PK -0475 125 030        -1   04-01-2019      491.07   \n",
              "3           AIROPTIX AQC SPH 6PK  -0025        -1   04-01-2019      883.93   \n",
              "4  FRESHLOOK 1-D COL 10  -0300  P HAZEL        -1   04-01-2019      441.96   \n",
              "\n",
              "   Customer_Code                                Invoice_Description  \\\n",
              "0    30000041419                              wrongly order punched   \n",
              "1    30000041496                              wrongly order punched   \n",
              "2    30000041081  sales return against no:159618003/8842 dt:25-1...   \n",
              "3    30000040955                                                NaN   \n",
              "4    30000041147                          customer cancel the order   \n",
              "\n",
              "   Total_Value Customer_City      State  \n",
              "0      -883.93     Bangalore  Karnataka  \n",
              "1      -530.80     Bangalore  Karnataka  \n",
              "2      -491.07       Dharwad  Karnataka  \n",
              "3      -883.93         Hubli  Karnataka  \n",
              "4      -441.96     Bangalore  Karnataka  "
            ]
          },
          "execution_count": 1,
          "metadata": {},
          "output_type": "execute_result"
        }
      ]
    },
    {
      "cell_type": "code",
      "metadata": {
        "id": "mWj66WIFSCQm",
        "outputId": "2a308cfb-7f06-443e-d98a-06569e16331f"
      },
      "source": [
        "dataset.isnull().sum()"
      ],
      "execution_count": null,
      "outputs": [
        {
          "data": {
            "text/plain": [
              "Invoice_No                  0\n",
              "SKU_Code                    0\n",
              "Business_Partner            0\n",
              "Item_Description            0\n",
              "Quantity                    0\n",
              "Invoice_Date                0\n",
              "Unit_Price                  0\n",
              "Customer_Code               0\n",
              "Invoice_Description    125858\n",
              "Total_Value                 0\n",
              "Customer_City               0\n",
              "State                       0\n",
              "dtype: int64"
            ]
          },
          "execution_count": 2,
          "metadata": {},
          "output_type": "execute_result"
        }
      ]
    },
    {
      "cell_type": "code",
      "metadata": {
        "id": "qtaAwKiqSCQp",
        "outputId": "eb70bd4b-e65b-4a0d-e556-44ececf1de42"
      },
      "source": [
        "dataset.shape"
      ],
      "execution_count": null,
      "outputs": [
        {
          "data": {
            "text/plain": [
              "(279990, 12)"
            ]
          },
          "execution_count": 3,
          "metadata": {},
          "output_type": "execute_result"
        }
      ]
    },
    {
      "cell_type": "code",
      "metadata": {
        "id": "kn9H8Ez7SCQt"
      },
      "source": [
        "#drp invoice_descrption column because more then 30% are missing values\n",
        "data=dataset.drop(['Invoice_Description'],axis=1)"
      ],
      "execution_count": null,
      "outputs": []
    },
    {
      "cell_type": "code",
      "metadata": {
        "id": "GO6MiNalSCQu",
        "outputId": "0d9a2d19-c509-4542-f5f8-cc2b376cad6e"
      },
      "source": [
        "data.head(100)"
      ],
      "execution_count": null,
      "outputs": [
        {
          "data": {
            "text/html": [
              "<div>\n",
              "<style scoped>\n",
              "    .dataframe tbody tr th:only-of-type {\n",
              "        vertical-align: middle;\n",
              "    }\n",
              "\n",
              "    .dataframe tbody tr th {\n",
              "        vertical-align: top;\n",
              "    }\n",
              "\n",
              "    .dataframe thead th {\n",
              "        text-align: right;\n",
              "    }\n",
              "</style>\n",
              "<table border=\"1\" class=\"dataframe\">\n",
              "  <thead>\n",
              "    <tr style=\"text-align: right;\">\n",
              "      <th></th>\n",
              "      <th>Invoice_No</th>\n",
              "      <th>SKU_Code</th>\n",
              "      <th>Business_Partner</th>\n",
              "      <th>Item_Description</th>\n",
              "      <th>Quantity</th>\n",
              "      <th>Invoice_Date</th>\n",
              "      <th>Unit_Price</th>\n",
              "      <th>Customer_Code</th>\n",
              "      <th>Total_Value</th>\n",
              "      <th>Customer_City</th>\n",
              "      <th>State</th>\n",
              "    </tr>\n",
              "  </thead>\n",
              "  <tbody>\n",
              "    <tr>\n",
              "      <th>0</th>\n",
              "      <td>1596180042798</td>\n",
              "      <td>66555338</td>\n",
              "      <td>U K OPTICAL CENTRE</td>\n",
              "      <td>AIROPTIX AQC SPH 6PK  -0400</td>\n",
              "      <td>-1</td>\n",
              "      <td>04-01-2019</td>\n",
              "      <td>883.930</td>\n",
              "      <td>30000041419</td>\n",
              "      <td>-883.93</td>\n",
              "      <td>Bangalore</td>\n",
              "      <td>Karnataka</td>\n",
              "    </tr>\n",
              "    <tr>\n",
              "      <th>1</th>\n",
              "      <td>1596180042799</td>\n",
              "      <td>411226</td>\n",
              "      <td>VISION WORLD PVT LTD</td>\n",
              "      <td>OPTIX 6P  -0350</td>\n",
              "      <td>-1</td>\n",
              "      <td>04-01-2019</td>\n",
              "      <td>530.800</td>\n",
              "      <td>30000041496</td>\n",
              "      <td>-530.80</td>\n",
              "      <td>Bangalore</td>\n",
              "      <td>Karnataka</td>\n",
              "    </tr>\n",
              "    <tr>\n",
              "      <th>2</th>\n",
              "      <td>1596180042800</td>\n",
              "      <td>66532759</td>\n",
              "      <td>JAWAHAR OPTICIANS</td>\n",
              "      <td>AIROPTIX TORIC 3-PK -0475 125 030</td>\n",
              "      <td>-1</td>\n",
              "      <td>04-01-2019</td>\n",
              "      <td>491.070</td>\n",
              "      <td>30000041081</td>\n",
              "      <td>-491.07</td>\n",
              "      <td>Dharwad</td>\n",
              "      <td>Karnataka</td>\n",
              "    </tr>\n",
              "    <tr>\n",
              "      <th>3</th>\n",
              "      <td>1596180042801</td>\n",
              "      <td>66555185</td>\n",
              "      <td>EYE PLUS OPTICIANS</td>\n",
              "      <td>AIROPTIX AQC SPH 6PK  -0025</td>\n",
              "      <td>-1</td>\n",
              "      <td>04-01-2019</td>\n",
              "      <td>883.930</td>\n",
              "      <td>30000040955</td>\n",
              "      <td>-883.93</td>\n",
              "      <td>Hubli</td>\n",
              "      <td>Karnataka</td>\n",
              "    </tr>\n",
              "    <tr>\n",
              "      <th>4</th>\n",
              "      <td>1596180042802</td>\n",
              "      <td>545085</td>\n",
              "      <td>MIRLAY EYE CARE</td>\n",
              "      <td>FRESHLOOK 1-D COL 10  -0300  P HAZEL</td>\n",
              "      <td>-1</td>\n",
              "      <td>04-01-2019</td>\n",
              "      <td>441.960</td>\n",
              "      <td>30000041147</td>\n",
              "      <td>-441.96</td>\n",
              "      <td>Bangalore</td>\n",
              "      <td>Karnataka</td>\n",
              "    </tr>\n",
              "    <tr>\n",
              "      <th>...</th>\n",
              "      <td>...</td>\n",
              "      <td>...</td>\n",
              "      <td>...</td>\n",
              "      <td>...</td>\n",
              "      <td>...</td>\n",
              "      <td>...</td>\n",
              "      <td>...</td>\n",
              "      <td>...</td>\n",
              "      <td>...</td>\n",
              "      <td>...</td>\n",
              "      <td>...</td>\n",
              "    </tr>\n",
              "    <tr>\n",
              "      <th>95</th>\n",
              "      <td>1596180042867</td>\n",
              "      <td>411234</td>\n",
              "      <td>SHAH OPTICALS</td>\n",
              "      <td>OPTIX 6P  -0550</td>\n",
              "      <td>-1</td>\n",
              "      <td>25-01-2019</td>\n",
              "      <td>530.800</td>\n",
              "      <td>30000041316</td>\n",
              "      <td>-530.80</td>\n",
              "      <td>Davangere</td>\n",
              "      <td>Karnataka</td>\n",
              "    </tr>\n",
              "    <tr>\n",
              "      <th>96</th>\n",
              "      <td>1596180042868</td>\n",
              "      <td>21633476</td>\n",
              "      <td>LONDON OPTICALS (UDUPI)</td>\n",
              "      <td>FL UV COLORS 2PK  -0250  HAZEL</td>\n",
              "      <td>-1</td>\n",
              "      <td>25-01-2019</td>\n",
              "      <td>433.040</td>\n",
              "      <td>30000057398</td>\n",
              "      <td>-433.04</td>\n",
              "      <td>Udupi</td>\n",
              "      <td>Karnataka</td>\n",
              "    </tr>\n",
              "    <tr>\n",
              "      <th>97</th>\n",
              "      <td>1596180042870</td>\n",
              "      <td>7239850</td>\n",
              "      <td>OPTICSUN EYEWEAR</td>\n",
              "      <td>O-F Puremoist 10 OZ (300 ML)</td>\n",
              "      <td>-5</td>\n",
              "      <td>28-01-2019</td>\n",
              "      <td>374.838</td>\n",
              "      <td>30000041202</td>\n",
              "      <td>-1874.19</td>\n",
              "      <td>Bangalore</td>\n",
              "      <td>Karnataka</td>\n",
              "    </tr>\n",
              "    <tr>\n",
              "      <th>98</th>\n",
              "      <td>1596180042872</td>\n",
              "      <td>547594</td>\n",
              "      <td>U K OPTICAL CENTRE</td>\n",
              "      <td>DAILIES AQUACOMFORT PLUS 30-PK -0275</td>\n",
              "      <td>-1</td>\n",
              "      <td>29-01-2019</td>\n",
              "      <td>735.450</td>\n",
              "      <td>30000041419</td>\n",
              "      <td>-735.45</td>\n",
              "      <td>Bangalore</td>\n",
              "      <td>Karnataka</td>\n",
              "    </tr>\n",
              "    <tr>\n",
              "      <th>99</th>\n",
              "      <td>1596180042895</td>\n",
              "      <td>66555376</td>\n",
              "      <td>VISION WORLD PVT LTD</td>\n",
              "      <td>AIROPTIX AQC SPH 6PK  -0500</td>\n",
              "      <td>-1</td>\n",
              "      <td>29-01-2019</td>\n",
              "      <td>883.930</td>\n",
              "      <td>30000041496</td>\n",
              "      <td>-883.93</td>\n",
              "      <td>Bangalore</td>\n",
              "      <td>Karnataka</td>\n",
              "    </tr>\n",
              "  </tbody>\n",
              "</table>\n",
              "<p>100 rows × 11 columns</p>\n",
              "</div>"
            ],
            "text/plain": [
              "       Invoice_No  SKU_Code         Business_Partner  \\\n",
              "0   1596180042798  66555338       U K OPTICAL CENTRE   \n",
              "1   1596180042799    411226     VISION WORLD PVT LTD   \n",
              "2   1596180042800  66532759        JAWAHAR OPTICIANS   \n",
              "3   1596180042801  66555185       EYE PLUS OPTICIANS   \n",
              "4   1596180042802    545085          MIRLAY EYE CARE   \n",
              "..            ...       ...                      ...   \n",
              "95  1596180042867    411234            SHAH OPTICALS   \n",
              "96  1596180042868  21633476  LONDON OPTICALS (UDUPI)   \n",
              "97  1596180042870   7239850         OPTICSUN EYEWEAR   \n",
              "98  1596180042872    547594       U K OPTICAL CENTRE   \n",
              "99  1596180042895  66555376     VISION WORLD PVT LTD   \n",
              "\n",
              "                        Item_Description  Quantity Invoice_Date  Unit_Price  \\\n",
              "0            AIROPTIX AQC SPH 6PK  -0400        -1   04-01-2019     883.930   \n",
              "1                        OPTIX 6P  -0350        -1   04-01-2019     530.800   \n",
              "2      AIROPTIX TORIC 3-PK -0475 125 030        -1   04-01-2019     491.070   \n",
              "3            AIROPTIX AQC SPH 6PK  -0025        -1   04-01-2019     883.930   \n",
              "4   FRESHLOOK 1-D COL 10  -0300  P HAZEL        -1   04-01-2019     441.960   \n",
              "..                                   ...       ...          ...         ...   \n",
              "95                       OPTIX 6P  -0550        -1   25-01-2019     530.800   \n",
              "96        FL UV COLORS 2PK  -0250  HAZEL        -1   25-01-2019     433.040   \n",
              "97          O-F Puremoist 10 OZ (300 ML)        -5   28-01-2019     374.838   \n",
              "98  DAILIES AQUACOMFORT PLUS 30-PK -0275        -1   29-01-2019     735.450   \n",
              "99           AIROPTIX AQC SPH 6PK  -0500        -1   29-01-2019     883.930   \n",
              "\n",
              "    Customer_Code  Total_Value Customer_City      State  \n",
              "0     30000041419      -883.93     Bangalore  Karnataka  \n",
              "1     30000041496      -530.80     Bangalore  Karnataka  \n",
              "2     30000041081      -491.07       Dharwad  Karnataka  \n",
              "3     30000040955      -883.93         Hubli  Karnataka  \n",
              "4     30000041147      -441.96     Bangalore  Karnataka  \n",
              "..            ...          ...           ...        ...  \n",
              "95    30000041316      -530.80     Davangere  Karnataka  \n",
              "96    30000057398      -433.04         Udupi  Karnataka  \n",
              "97    30000041202     -1874.19     Bangalore  Karnataka  \n",
              "98    30000041419      -735.45     Bangalore  Karnataka  \n",
              "99    30000041496      -883.93     Bangalore  Karnataka  \n",
              "\n",
              "[100 rows x 11 columns]"
            ]
          },
          "execution_count": 5,
          "metadata": {},
          "output_type": "execute_result"
        }
      ]
    },
    {
      "cell_type": "code",
      "metadata": {
        "id": "e-f01jsBSCQv",
        "outputId": "00218b88-b99b-4460-bbad-0fc3521e75c7"
      },
      "source": [
        "#again check for missing count\n",
        "data.isnull().sum()"
      ],
      "execution_count": null,
      "outputs": [
        {
          "data": {
            "text/plain": [
              "Invoice_No          0\n",
              "SKU_Code            0\n",
              "Business_Partner    0\n",
              "Item_Description    0\n",
              "Quantity            0\n",
              "Invoice_Date        0\n",
              "Unit_Price          0\n",
              "Customer_Code       0\n",
              "Total_Value         0\n",
              "Customer_City       0\n",
              "State               0\n",
              "dtype: int64"
            ]
          },
          "execution_count": 6,
          "metadata": {},
          "output_type": "execute_result"
        }
      ]
    },
    {
      "cell_type": "code",
      "metadata": {
        "id": "sq7IJJajSCQx",
        "outputId": "00b848be-22f7-44d4-c0cb-34c77555139b"
      },
      "source": [
        "#find the information about the data\n",
        "data.info()"
      ],
      "execution_count": null,
      "outputs": [
        {
          "name": "stdout",
          "output_type": "stream",
          "text": [
            "<class 'pandas.core.frame.DataFrame'>\n",
            "RangeIndex: 279990 entries, 0 to 279989\n",
            "Data columns (total 11 columns):\n",
            " #   Column            Non-Null Count   Dtype  \n",
            "---  ------            --------------   -----  \n",
            " 0   Invoice_No        279990 non-null  int64  \n",
            " 1   SKU_Code          279990 non-null  object \n",
            " 2   Business_Partner  279990 non-null  object \n",
            " 3   Item_Description  279990 non-null  object \n",
            " 4   Quantity          279990 non-null  int64  \n",
            " 5   Invoice_Date      279990 non-null  object \n",
            " 6   Unit_Price        279990 non-null  float64\n",
            " 7   Customer_Code     279990 non-null  int64  \n",
            " 8   Total_Value       279990 non-null  float64\n",
            " 9   Customer_City     279990 non-null  object \n",
            " 10  State             279990 non-null  object \n",
            "dtypes: float64(2), int64(3), object(6)\n",
            "memory usage: 23.5+ MB\n"
          ]
        }
      ]
    },
    {
      "cell_type": "code",
      "metadata": {
        "id": "VgY1Km4hSCQ0",
        "outputId": "1438b5a1-c951-464c-f51a-dfed3976f0e1"
      },
      "source": [
        "print('Duplicate data entries: {}'.format(data.duplicated().sum()))\n",
        "data.drop_duplicates(inplace = True)"
      ],
      "execution_count": null,
      "outputs": [
        {
          "name": "stdout",
          "output_type": "stream",
          "text": [
            "Duplicate data entries: 0\n"
          ]
        }
      ]
    },
    {
      "cell_type": "code",
      "metadata": {
        "id": "XStpoXzGSCQ3",
        "outputId": "3e6f88f5-6184-4212-8184-3853f9a134c8"
      },
      "source": [
        "#Exploring the data attributes customer city\n",
        "temp = data[['Customer_Code', 'Invoice_No', 'Customer_City']].groupby(\n",
        "    ['Customer_Code', 'Invoice_No', 'Customer_City']).count()\n",
        "temp = temp.reset_index(drop = False)\n",
        "cities = temp['Customer_City'].value_counts()\n",
        "print('No. of cities in dataframe: {}'.format(len(cities)))"
      ],
      "execution_count": null,
      "outputs": [
        {
          "name": "stdout",
          "output_type": "stream",
          "text": [
            "No. of cities in dataframe: 252\n"
          ]
        }
      ]
    },
    {
      "cell_type": "code",
      "metadata": {
        "id": "AIPQATrTSCQ7",
        "outputId": "2c227d85-6482-4c1d-ef51-357a86049f3f"
      },
      "source": [
        "temp_no_of_order_per_count = data[['Customer_Code','Customer_City']].groupby(['Customer_City']).count()\n",
        "temp_no_of_order_per_count = temp_no_of_order_per_count.reset_index(drop = False)\n",
        "\n",
        "print('-' * 10 + \" City-wise order calculation \"+ '-' * 10)\n",
        "print\n",
        "print (temp_no_of_order_per_count.sort_values(\n",
        "    by='Customer_Code', ascending=False).rename(index=str,\n",
        "                                        columns={\"Customer_Code\": \"city wise number of order\"}))"
      ],
      "execution_count": null,
      "outputs": [
        {
          "name": "stdout",
          "output_type": "stream",
          "text": [
            "---------- City-wise order calculation ----------\n",
            "      Customer_City  city wise number of order\n",
            "149     Mumbai (MH)                      46703\n",
            "169  New Delhi (DL)                      27687\n",
            "3         Ahmedabad                      21374\n",
            "42     Chennai (TN)                      19172\n",
            "20        Bangalore                      18673\n",
            "..              ...                        ...\n",
            "118         Khammam                          1\n",
            "1     24 Pgs(North)                          1\n",
            "180      Patan (GJ)                          1\n",
            "43      Chidambaram                          1\n",
            "144            Moga                          1\n",
            "\n",
            "[252 rows x 2 columns]\n"
          ]
        }
      ]
    },
    {
      "cell_type": "code",
      "metadata": {
        "id": "jy7vEB2nSCQ9",
        "outputId": "75c3a471-0338-4702-e182-7b99678db3d6"
      },
      "source": [
        "#Exploring the data attribute : Customers and products \n",
        "pd.DataFrame([{'products': len(data['SKU_Code'].value_counts()),    \n",
        "               'transactions': len(data['Invoice_No'].value_counts()),\n",
        "               'customers': len(data['Customer_Code'].value_counts()),  \n",
        "              }], columns = ['products', 'transactions', 'customers'], \n",
        "              index = ['Quantity'])"
      ],
      "execution_count": null,
      "outputs": [
        {
          "data": {
            "text/html": [
              "<div>\n",
              "<style scoped>\n",
              "    .dataframe tbody tr th:only-of-type {\n",
              "        vertical-align: middle;\n",
              "    }\n",
              "\n",
              "    .dataframe tbody tr th {\n",
              "        vertical-align: top;\n",
              "    }\n",
              "\n",
              "    .dataframe thead th {\n",
              "        text-align: right;\n",
              "    }\n",
              "</style>\n",
              "<table border=\"1\" class=\"dataframe\">\n",
              "  <thead>\n",
              "    <tr style=\"text-align: right;\">\n",
              "      <th></th>\n",
              "      <th>products</th>\n",
              "      <th>transactions</th>\n",
              "      <th>customers</th>\n",
              "    </tr>\n",
              "  </thead>\n",
              "  <tbody>\n",
              "    <tr>\n",
              "      <th>Quantity</th>\n",
              "      <td>5728</td>\n",
              "      <td>92915</td>\n",
              "      <td>3197</td>\n",
              "    </tr>\n",
              "  </tbody>\n",
              "</table>\n",
              "</div>"
            ],
            "text/plain": [
              "          products  transactions  customers\n",
              "Quantity      5728         92915       3197"
            ]
          },
          "execution_count": 11,
          "metadata": {},
          "output_type": "execute_result"
        }
      ]
    },
    {
      "cell_type": "markdown",
      "metadata": {
        "id": "krLCzdb3SCQ-"
      },
      "source": [
        "As you can see that this dataset contain the recods of 3197 users who bought 5728 different items. There are 92915 transactions which are carried out"
      ]
    },
    {
      "cell_type": "code",
      "metadata": {
        "id": "UQlRiaCxSCRA",
        "outputId": "d3a48b38-8a0f-4b31-9475-193b0c5a38da"
      },
      "source": [
        "# Now we need to explore the number of products purchased in every transaction\n",
        "\n",
        "temp = data.groupby(by=['Customer_Code', 'Invoice_No'], as_index=False)['Invoice_Date'].count()\n",
        "nb_products_per_basket = temp.rename(columns = {'Invoice_Date':'Number of products'})\n",
        "nb_products_per_basket[:100].sort_values('Customer_Code')"
      ],
      "execution_count": null,
      "outputs": [
        {
          "data": {
            "text/html": [
              "<div>\n",
              "<style scoped>\n",
              "    .dataframe tbody tr th:only-of-type {\n",
              "        vertical-align: middle;\n",
              "    }\n",
              "\n",
              "    .dataframe tbody tr th {\n",
              "        vertical-align: top;\n",
              "    }\n",
              "\n",
              "    .dataframe thead th {\n",
              "        text-align: right;\n",
              "    }\n",
              "</style>\n",
              "<table border=\"1\" class=\"dataframe\">\n",
              "  <thead>\n",
              "    <tr style=\"text-align: right;\">\n",
              "      <th></th>\n",
              "      <th>Customer_Code</th>\n",
              "      <th>Invoice_No</th>\n",
              "      <th>Number of products</th>\n",
              "    </tr>\n",
              "  </thead>\n",
              "  <tbody>\n",
              "    <tr>\n",
              "      <th>0</th>\n",
              "      <td>30000040295</td>\n",
              "      <td>16400248</td>\n",
              "      <td>1</td>\n",
              "    </tr>\n",
              "    <tr>\n",
              "      <th>18</th>\n",
              "      <td>30000040295</td>\n",
              "      <td>1631180039000</td>\n",
              "      <td>1</td>\n",
              "    </tr>\n",
              "    <tr>\n",
              "      <th>17</th>\n",
              "      <td>30000040295</td>\n",
              "      <td>66401323</td>\n",
              "      <td>1</td>\n",
              "    </tr>\n",
              "    <tr>\n",
              "      <th>16</th>\n",
              "      <td>30000040295</td>\n",
              "      <td>56406290</td>\n",
              "      <td>1</td>\n",
              "    </tr>\n",
              "    <tr>\n",
              "      <th>15</th>\n",
              "      <td>30000040295</td>\n",
              "      <td>56404978</td>\n",
              "      <td>1</td>\n",
              "    </tr>\n",
              "    <tr>\n",
              "      <th>...</th>\n",
              "      <td>...</td>\n",
              "      <td>...</td>\n",
              "      <td>...</td>\n",
              "    </tr>\n",
              "    <tr>\n",
              "      <th>70</th>\n",
              "      <td>30000040301</td>\n",
              "      <td>56400833</td>\n",
              "      <td>1</td>\n",
              "    </tr>\n",
              "    <tr>\n",
              "      <th>69</th>\n",
              "      <td>30000040301</td>\n",
              "      <td>16400170</td>\n",
              "      <td>1</td>\n",
              "    </tr>\n",
              "    <tr>\n",
              "      <th>98</th>\n",
              "      <td>30000040301</td>\n",
              "      <td>76408231</td>\n",
              "      <td>1</td>\n",
              "    </tr>\n",
              "    <tr>\n",
              "      <th>83</th>\n",
              "      <td>30000040301</td>\n",
              "      <td>56405114</td>\n",
              "      <td>2</td>\n",
              "    </tr>\n",
              "    <tr>\n",
              "      <th>99</th>\n",
              "      <td>30000040301</td>\n",
              "      <td>76408614</td>\n",
              "      <td>2</td>\n",
              "    </tr>\n",
              "  </tbody>\n",
              "</table>\n",
              "<p>100 rows × 3 columns</p>\n",
              "</div>"
            ],
            "text/plain": [
              "    Customer_Code     Invoice_No  Number of products\n",
              "0     30000040295       16400248                   1\n",
              "18    30000040295  1631180039000                   1\n",
              "17    30000040295       66401323                   1\n",
              "16    30000040295       56406290                   1\n",
              "15    30000040295       56404978                   1\n",
              "..            ...            ...                 ...\n",
              "70    30000040301       56400833                   1\n",
              "69    30000040301       16400170                   1\n",
              "98    30000040301       76408231                   1\n",
              "83    30000040301       56405114                   2\n",
              "99    30000040301       76408614                   2\n",
              "\n",
              "[100 rows x 3 columns]"
            ]
          },
          "execution_count": 12,
          "metadata": {},
          "output_type": "execute_result"
        }
      ]
    },
    {
      "cell_type": "code",
      "metadata": {
        "id": "ZbRVS-mWSCRB",
        "outputId": "3cb20c86-9d04-42eb-865a-edc553a71f70"
      },
      "source": [
        "display(data.sort_values('Customer_Code')[:5])\n"
      ],
      "execution_count": null,
      "outputs": [
        {
          "data": {
            "text/html": [
              "<div>\n",
              "<style scoped>\n",
              "    .dataframe tbody tr th:only-of-type {\n",
              "        vertical-align: middle;\n",
              "    }\n",
              "\n",
              "    .dataframe tbody tr th {\n",
              "        vertical-align: top;\n",
              "    }\n",
              "\n",
              "    .dataframe thead th {\n",
              "        text-align: right;\n",
              "    }\n",
              "</style>\n",
              "<table border=\"1\" class=\"dataframe\">\n",
              "  <thead>\n",
              "    <tr style=\"text-align: right;\">\n",
              "      <th></th>\n",
              "      <th>Invoice_No</th>\n",
              "      <th>SKU_Code</th>\n",
              "      <th>Business_Partner</th>\n",
              "      <th>Item_Description</th>\n",
              "      <th>Quantity</th>\n",
              "      <th>Invoice_Date</th>\n",
              "      <th>Unit_Price</th>\n",
              "      <th>Customer_Code</th>\n",
              "      <th>Total_Value</th>\n",
              "      <th>Customer_City</th>\n",
              "      <th>State</th>\n",
              "    </tr>\n",
              "  </thead>\n",
              "  <tbody>\n",
              "    <tr>\n",
              "      <th>208385</th>\n",
              "      <td>56404340</td>\n",
              "      <td>21600515</td>\n",
              "      <td>A AND K ENTERPRISE(VIEW POINT)</td>\n",
              "      <td>FL UV CB 2PK   0000  HONEY</td>\n",
              "      <td>1</td>\n",
              "      <td>27-09-2019</td>\n",
              "      <td>433.040</td>\n",
              "      <td>30000040295</td>\n",
              "      <td>433.04</td>\n",
              "      <td>Ahmedabad</td>\n",
              "      <td>Gujarat</td>\n",
              "    </tr>\n",
              "    <tr>\n",
              "      <th>22540</th>\n",
              "      <td>1631180039000</td>\n",
              "      <td>7239850</td>\n",
              "      <td>A AND K ENTERPRISE(VIEW POINT)</td>\n",
              "      <td>O-F Puremoist 10 OZ (300 ML)</td>\n",
              "      <td>2</td>\n",
              "      <td>19-01-2019</td>\n",
              "      <td>374.840</td>\n",
              "      <td>30000040295</td>\n",
              "      <td>749.68</td>\n",
              "      <td>Ahmedabad</td>\n",
              "      <td>Gujarat</td>\n",
              "    </tr>\n",
              "    <tr>\n",
              "      <th>160251</th>\n",
              "      <td>56402835</td>\n",
              "      <td>21690646</td>\n",
              "      <td>A AND K ENTERPRISE(VIEW POINT)</td>\n",
              "      <td>FL UV CB 2PK   0000  P.HAZEL</td>\n",
              "      <td>1</td>\n",
              "      <td>27-07-2019</td>\n",
              "      <td>0.000</td>\n",
              "      <td>30000040295</td>\n",
              "      <td>0.00</td>\n",
              "      <td>Ahmedabad</td>\n",
              "      <td>Gujarat</td>\n",
              "    </tr>\n",
              "    <tr>\n",
              "      <th>160252</th>\n",
              "      <td>56402835</td>\n",
              "      <td>21600034</td>\n",
              "      <td>A AND K ENTERPRISE(VIEW POINT)</td>\n",
              "      <td>FL UV CB 2PK  -0225  GREEN</td>\n",
              "      <td>5</td>\n",
              "      <td>27-07-2019</td>\n",
              "      <td>433.038</td>\n",
              "      <td>30000040295</td>\n",
              "      <td>2165.19</td>\n",
              "      <td>Ahmedabad</td>\n",
              "      <td>Gujarat</td>\n",
              "    </tr>\n",
              "    <tr>\n",
              "      <th>160253</th>\n",
              "      <td>56402835</td>\n",
              "      <td>21690165</td>\n",
              "      <td>A AND K ENTERPRISE(VIEW POINT)</td>\n",
              "      <td>FL UV CB 2PK  -0225  T.SAPH</td>\n",
              "      <td>5</td>\n",
              "      <td>27-07-2019</td>\n",
              "      <td>433.036</td>\n",
              "      <td>30000040295</td>\n",
              "      <td>2165.18</td>\n",
              "      <td>Ahmedabad</td>\n",
              "      <td>Gujarat</td>\n",
              "    </tr>\n",
              "  </tbody>\n",
              "</table>\n",
              "</div>"
            ],
            "text/plain": [
              "           Invoice_No  SKU_Code                Business_Partner  \\\n",
              "208385       56404340  21600515  A AND K ENTERPRISE(VIEW POINT)   \n",
              "22540   1631180039000   7239850  A AND K ENTERPRISE(VIEW POINT)   \n",
              "160251       56402835  21690646  A AND K ENTERPRISE(VIEW POINT)   \n",
              "160252       56402835  21600034  A AND K ENTERPRISE(VIEW POINT)   \n",
              "160253       56402835  21690165  A AND K ENTERPRISE(VIEW POINT)   \n",
              "\n",
              "                    Item_Description  Quantity Invoice_Date  Unit_Price  \\\n",
              "208385    FL UV CB 2PK   0000  HONEY         1   27-09-2019     433.040   \n",
              "22540   O-F Puremoist 10 OZ (300 ML)         2   19-01-2019     374.840   \n",
              "160251  FL UV CB 2PK   0000  P.HAZEL         1   27-07-2019       0.000   \n",
              "160252    FL UV CB 2PK  -0225  GREEN         5   27-07-2019     433.038   \n",
              "160253   FL UV CB 2PK  -0225  T.SAPH         5   27-07-2019     433.036   \n",
              "\n",
              "        Customer_Code  Total_Value Customer_City    State  \n",
              "208385    30000040295       433.04     Ahmedabad  Gujarat  \n",
              "22540     30000040295       749.68     Ahmedabad  Gujarat  \n",
              "160251    30000040295         0.00     Ahmedabad  Gujarat  \n",
              "160252    30000040295      2165.19     Ahmedabad  Gujarat  \n",
              "160253    30000040295      2165.18     Ahmedabad  Gujarat  "
            ]
          },
          "metadata": {},
          "output_type": "display_data"
        }
      ]
    },
    {
      "cell_type": "code",
      "metadata": {
        "id": "1SoiE92lSCRC",
        "outputId": "22303d2d-a21f-4060-fe5f-93aab1df7c40"
      },
      "source": [
        "\n",
        "df=data\n",
        "df"
      ],
      "execution_count": null,
      "outputs": [
        {
          "data": {
            "text/html": [
              "<div>\n",
              "<style scoped>\n",
              "    .dataframe tbody tr th:only-of-type {\n",
              "        vertical-align: middle;\n",
              "    }\n",
              "\n",
              "    .dataframe tbody tr th {\n",
              "        vertical-align: top;\n",
              "    }\n",
              "\n",
              "    .dataframe thead th {\n",
              "        text-align: right;\n",
              "    }\n",
              "</style>\n",
              "<table border=\"1\" class=\"dataframe\">\n",
              "  <thead>\n",
              "    <tr style=\"text-align: right;\">\n",
              "      <th></th>\n",
              "      <th>Invoice_No</th>\n",
              "      <th>SKU_Code</th>\n",
              "      <th>Business_Partner</th>\n",
              "      <th>Item_Description</th>\n",
              "      <th>Quantity</th>\n",
              "      <th>Invoice_Date</th>\n",
              "      <th>Unit_Price</th>\n",
              "      <th>Customer_Code</th>\n",
              "      <th>Total_Value</th>\n",
              "      <th>Customer_City</th>\n",
              "      <th>State</th>\n",
              "    </tr>\n",
              "  </thead>\n",
              "  <tbody>\n",
              "    <tr>\n",
              "      <th>0</th>\n",
              "      <td>1596180042798</td>\n",
              "      <td>66555338</td>\n",
              "      <td>U K OPTICAL CENTRE</td>\n",
              "      <td>AIROPTIX AQC SPH 6PK  -0400</td>\n",
              "      <td>-1</td>\n",
              "      <td>04-01-2019</td>\n",
              "      <td>883.930000</td>\n",
              "      <td>30000041419</td>\n",
              "      <td>-883.93</td>\n",
              "      <td>Bangalore</td>\n",
              "      <td>Karnataka</td>\n",
              "    </tr>\n",
              "    <tr>\n",
              "      <th>1</th>\n",
              "      <td>1596180042799</td>\n",
              "      <td>411226</td>\n",
              "      <td>VISION WORLD PVT LTD</td>\n",
              "      <td>OPTIX 6P  -0350</td>\n",
              "      <td>-1</td>\n",
              "      <td>04-01-2019</td>\n",
              "      <td>530.800000</td>\n",
              "      <td>30000041496</td>\n",
              "      <td>-530.80</td>\n",
              "      <td>Bangalore</td>\n",
              "      <td>Karnataka</td>\n",
              "    </tr>\n",
              "    <tr>\n",
              "      <th>2</th>\n",
              "      <td>1596180042800</td>\n",
              "      <td>66532759</td>\n",
              "      <td>JAWAHAR OPTICIANS</td>\n",
              "      <td>AIROPTIX TORIC 3-PK -0475 125 030</td>\n",
              "      <td>-1</td>\n",
              "      <td>04-01-2019</td>\n",
              "      <td>491.070000</td>\n",
              "      <td>30000041081</td>\n",
              "      <td>-491.07</td>\n",
              "      <td>Dharwad</td>\n",
              "      <td>Karnataka</td>\n",
              "    </tr>\n",
              "    <tr>\n",
              "      <th>3</th>\n",
              "      <td>1596180042801</td>\n",
              "      <td>66555185</td>\n",
              "      <td>EYE PLUS OPTICIANS</td>\n",
              "      <td>AIROPTIX AQC SPH 6PK  -0025</td>\n",
              "      <td>-1</td>\n",
              "      <td>04-01-2019</td>\n",
              "      <td>883.930000</td>\n",
              "      <td>30000040955</td>\n",
              "      <td>-883.93</td>\n",
              "      <td>Hubli</td>\n",
              "      <td>Karnataka</td>\n",
              "    </tr>\n",
              "    <tr>\n",
              "      <th>4</th>\n",
              "      <td>1596180042802</td>\n",
              "      <td>545085</td>\n",
              "      <td>MIRLAY EYE CARE</td>\n",
              "      <td>FRESHLOOK 1-D COL 10  -0300  P HAZEL</td>\n",
              "      <td>-1</td>\n",
              "      <td>04-01-2019</td>\n",
              "      <td>441.960000</td>\n",
              "      <td>30000041147</td>\n",
              "      <td>-441.96</td>\n",
              "      <td>Bangalore</td>\n",
              "      <td>Karnataka</td>\n",
              "    </tr>\n",
              "    <tr>\n",
              "      <th>...</th>\n",
              "      <td>...</td>\n",
              "      <td>...</td>\n",
              "      <td>...</td>\n",
              "      <td>...</td>\n",
              "      <td>...</td>\n",
              "      <td>...</td>\n",
              "      <td>...</td>\n",
              "      <td>...</td>\n",
              "      <td>...</td>\n",
              "      <td>...</td>\n",
              "      <td>...</td>\n",
              "    </tr>\n",
              "    <tr>\n",
              "      <th>279985</th>\n",
              "      <td>162419004253</td>\n",
              "      <td>545045</td>\n",
              "      <td>AKSHAY EYE CARE</td>\n",
              "      <td>FRESHLOOK 1-D COL 10 - PLANO   0000  GREEN</td>\n",
              "      <td>-1</td>\n",
              "      <td>16-12-2019</td>\n",
              "      <td>441.960000</td>\n",
              "      <td>30000045392</td>\n",
              "      <td>-441.96</td>\n",
              "      <td>Mumbai</td>\n",
              "      <td>Maharashtra</td>\n",
              "    </tr>\n",
              "    <tr>\n",
              "      <th>279986</th>\n",
              "      <td>162419004253</td>\n",
              "      <td>545096</td>\n",
              "      <td>AKSHAY EYE CARE</td>\n",
              "      <td>FRESHLOOK 1-D COL 10 - PLANO   0000  P HAZEL</td>\n",
              "      <td>-7</td>\n",
              "      <td>16-12-2019</td>\n",
              "      <td>441.965714</td>\n",
              "      <td>30000045392</td>\n",
              "      <td>-3093.76</td>\n",
              "      <td>Mumbai</td>\n",
              "      <td>Maharashtra</td>\n",
              "    </tr>\n",
              "    <tr>\n",
              "      <th>279987</th>\n",
              "      <td>162419004254</td>\n",
              "      <td>21598805</td>\n",
              "      <td>KAKKA OPTICIANS</td>\n",
              "      <td>FL UV CB 2PK   0000  BROWN</td>\n",
              "      <td>-1</td>\n",
              "      <td>18-12-2019</td>\n",
              "      <td>415.090000</td>\n",
              "      <td>30000045698</td>\n",
              "      <td>-415.09</td>\n",
              "      <td>Mumbai</td>\n",
              "      <td>Maharashtra</td>\n",
              "    </tr>\n",
              "    <tr>\n",
              "      <th>279988</th>\n",
              "      <td>162419004254</td>\n",
              "      <td>21599949</td>\n",
              "      <td>KAKKA OPTICIANS</td>\n",
              "      <td>FL UV CB 2PK   0000  GREEN</td>\n",
              "      <td>-2</td>\n",
              "      <td>18-12-2019</td>\n",
              "      <td>415.090000</td>\n",
              "      <td>30000045698</td>\n",
              "      <td>-830.18</td>\n",
              "      <td>Mumbai</td>\n",
              "      <td>Maharashtra</td>\n",
              "    </tr>\n",
              "    <tr>\n",
              "      <th>279989</th>\n",
              "      <td>163019004138</td>\n",
              "      <td>7228991</td>\n",
              "      <td>WESTERN OPTICAL (SANTOSPUR)</td>\n",
              "      <td>O-F Replenish 300ML /LC &lt; IND</td>\n",
              "      <td>-2</td>\n",
              "      <td>05-12-2019</td>\n",
              "      <td>277.050000</td>\n",
              "      <td>30000046906</td>\n",
              "      <td>-554.10</td>\n",
              "      <td>Kolkata</td>\n",
              "      <td>West Bengal</td>\n",
              "    </tr>\n",
              "  </tbody>\n",
              "</table>\n",
              "<p>279990 rows × 11 columns</p>\n",
              "</div>"
            ],
            "text/plain": [
              "           Invoice_No  SKU_Code             Business_Partner  \\\n",
              "0       1596180042798  66555338           U K OPTICAL CENTRE   \n",
              "1       1596180042799    411226         VISION WORLD PVT LTD   \n",
              "2       1596180042800  66532759            JAWAHAR OPTICIANS   \n",
              "3       1596180042801  66555185           EYE PLUS OPTICIANS   \n",
              "4       1596180042802    545085              MIRLAY EYE CARE   \n",
              "...               ...       ...                          ...   \n",
              "279985   162419004253    545045              AKSHAY EYE CARE   \n",
              "279986   162419004253    545096              AKSHAY EYE CARE   \n",
              "279987   162419004254  21598805              KAKKA OPTICIANS   \n",
              "279988   162419004254  21599949              KAKKA OPTICIANS   \n",
              "279989   163019004138   7228991  WESTERN OPTICAL (SANTOSPUR)   \n",
              "\n",
              "                                    Item_Description  Quantity Invoice_Date  \\\n",
              "0                        AIROPTIX AQC SPH 6PK  -0400        -1   04-01-2019   \n",
              "1                                    OPTIX 6P  -0350        -1   04-01-2019   \n",
              "2                  AIROPTIX TORIC 3-PK -0475 125 030        -1   04-01-2019   \n",
              "3                        AIROPTIX AQC SPH 6PK  -0025        -1   04-01-2019   \n",
              "4               FRESHLOOK 1-D COL 10  -0300  P HAZEL        -1   04-01-2019   \n",
              "...                                              ...       ...          ...   \n",
              "279985    FRESHLOOK 1-D COL 10 - PLANO   0000  GREEN        -1   16-12-2019   \n",
              "279986  FRESHLOOK 1-D COL 10 - PLANO   0000  P HAZEL        -7   16-12-2019   \n",
              "279987                    FL UV CB 2PK   0000  BROWN        -1   18-12-2019   \n",
              "279988                    FL UV CB 2PK   0000  GREEN        -2   18-12-2019   \n",
              "279989                 O-F Replenish 300ML /LC < IND        -2   05-12-2019   \n",
              "\n",
              "        Unit_Price  Customer_Code  Total_Value Customer_City        State  \n",
              "0       883.930000    30000041419      -883.93     Bangalore    Karnataka  \n",
              "1       530.800000    30000041496      -530.80     Bangalore    Karnataka  \n",
              "2       491.070000    30000041081      -491.07       Dharwad    Karnataka  \n",
              "3       883.930000    30000040955      -883.93         Hubli    Karnataka  \n",
              "4       441.960000    30000041147      -441.96     Bangalore    Karnataka  \n",
              "...            ...            ...          ...           ...          ...  \n",
              "279985  441.960000    30000045392      -441.96        Mumbai  Maharashtra  \n",
              "279986  441.965714    30000045392     -3093.76        Mumbai  Maharashtra  \n",
              "279987  415.090000    30000045698      -415.09        Mumbai  Maharashtra  \n",
              "279988  415.090000    30000045698      -830.18        Mumbai  Maharashtra  \n",
              "279989  277.050000    30000046906      -554.10       Kolkata  West Bengal  \n",
              "\n",
              "[279990 rows x 11 columns]"
            ]
          },
          "execution_count": 24,
          "metadata": {},
          "output_type": "execute_result"
        }
      ]
    },
    {
      "cell_type": "code",
      "metadata": {
        "id": "QaU_TMAOSCRC",
        "outputId": "91dc1d27-997a-4a3e-9c5d-259e1567f039"
      },
      "source": [
        "df = df[(df['Quantity']>0)]\n",
        "df.shape\n",
        "df.info()"
      ],
      "execution_count": null,
      "outputs": [
        {
          "name": "stdout",
          "output_type": "stream",
          "text": [
            "<class 'pandas.core.frame.DataFrame'>\n",
            "Int64Index: 263018 entries, 1401 to 279880\n",
            "Data columns (total 11 columns):\n",
            " #   Column            Non-Null Count   Dtype  \n",
            "---  ------            --------------   -----  \n",
            " 0   Invoice_No        263018 non-null  int64  \n",
            " 1   SKU_Code          263018 non-null  object \n",
            " 2   Business_Partner  263018 non-null  object \n",
            " 3   Item_Description  263018 non-null  object \n",
            " 4   Quantity          263018 non-null  int64  \n",
            " 5   Invoice_Date      263018 non-null  object \n",
            " 6   Unit_Price        263018 non-null  float64\n",
            " 7   Customer_Code     263018 non-null  int64  \n",
            " 8   Total_Value       263018 non-null  float64\n",
            " 9   Customer_City     263018 non-null  object \n",
            " 10  State             263018 non-null  object \n",
            "dtypes: float64(2), int64(3), object(6)\n",
            "memory usage: 24.1+ MB\n"
          ]
        }
      ]
    },
    {
      "cell_type": "code",
      "metadata": {
        "id": "v_bQL-naSCRD",
        "outputId": "c83dd0cc-5680-498d-ce16-d50f76bbc7d4"
      },
      "source": [
        "def unique_counts(df):\n",
        "   for i in df.columns:\n",
        "       count = df[i].nunique()\n",
        "       print(i, \": \", count)\n",
        "unique_counts(df)"
      ],
      "execution_count": null,
      "outputs": [
        {
          "name": "stdout",
          "output_type": "stream",
          "text": [
            "Invoice_No :  86302\n",
            "SKU_Code :  5716\n",
            "Business_Partner :  3183\n",
            "Item_Description :  5713\n",
            "Quantity :  185\n",
            "Invoice_Date :  319\n",
            "Unit_Price :  1530\n",
            "Customer_Code :  3132\n",
            "Total_Value :  1654\n",
            "Customer_City :  248\n",
            "State :  22\n"
          ]
        }
      ]
    },
    {
      "cell_type": "code",
      "metadata": {
        "id": "hpQxS4swSCRD",
        "outputId": "2f136ed9-401e-4ce3-c754-34cfcde87fad"
      },
      "source": [
        "#%% determine first and last order date\n",
        "df['Invoice_Date'].min()\n",
        "df['Invoice_Date'].max()"
      ],
      "execution_count": null,
      "outputs": [
        {
          "data": {
            "text/plain": [
              "Timestamp('2019-12-31 00:00:00')"
            ]
          },
          "execution_count": 56,
          "metadata": {},
          "output_type": "execute_result"
        }
      ]
    },
    {
      "cell_type": "code",
      "metadata": {
        "id": "DP0ZC2IMSCRE",
        "outputId": "4f83a092-abe6-4fc1-9a12-19863123d044"
      },
      "source": [
        "now = dt.datetime(2019,12,31)\n",
        "df['Invoice_Date'] = pd.to_datetime(df['Invoice_Date'])"
      ],
      "execution_count": null,
      "outputs": [
        {
          "name": "stderr",
          "output_type": "stream",
          "text": [
            "/home/arvind/anaconda3/lib/python3.7/site-packages/ipykernel_launcher.py:2: SettingWithCopyWarning: \n",
            "A value is trying to be set on a copy of a slice from a DataFrame.\n",
            "Try using .loc[row_indexer,col_indexer] = value instead\n",
            "\n",
            "See the caveats in the documentation: https://pandas.pydata.org/pandas-docs/stable/user_guide/indexing.html#returning-a-view-versus-a-copy\n",
            "  \n"
          ]
        }
      ]
    },
    {
      "cell_type": "code",
      "metadata": {
        "id": "fVwjikMBSCRF"
      },
      "source": [
        "#%% create RFM table\n",
        "rfmTable = df.groupby('Customer_Code').agg({\n",
        "        'Invoice_Date':  lambda x: (now - x.max()).days,      #recency\n",
        "        'Invoice_No':    lambda x: len(x),                    #frequency\n",
        "        'Total_Value':   lambda x: x.sum()})                  #monetary\n",
        "rfmTable['Invoice_Date'] = rfmTable['Invoice_Date'].astype(int)"
      ],
      "execution_count": null,
      "outputs": []
    },
    {
      "cell_type": "code",
      "metadata": {
        "id": "KWa0dLCgSCRF"
      },
      "source": [
        "rfmTable['Invoice_Date'] = rfmTable['Invoice_Date'].astype(int)\n",
        "\n",
        "#%% convert invoice date to integer and rename columns for RFM\n",
        "rfmTable.rename(columns={\n",
        "        'Invoice_Date':  'Recency', \n",
        "        'Invoice_No':    'Frequency', \n",
        "        'Total_Value':   'Monetary'}, inplace=True)"
      ],
      "execution_count": null,
      "outputs": []
    },
    {
      "cell_type": "code",
      "metadata": {
        "id": "k-0uTHyDSCRG",
        "outputId": "625e9232-485a-4ad7-80db-6f791f7b03fd"
      },
      "source": [
        "#%% shift rfmTable data to quantiles for segmentation\n",
        "quantiles = rfmTable.quantile(q=[0.25,0.5,0.75])\n",
        "quantiles = quantiles.to_dict()\n",
        "quantiles"
      ],
      "execution_count": null,
      "outputs": [
        {
          "data": {
            "text/plain": [
              "{'Recency': {0.25: 5.0, 0.5: 23.0, 0.75: 59.0},\n",
              " 'Frequency': {0.25: 14.0, 0.5: 37.0, 0.75: 89.0},\n",
              " 'Monetary': {0.25: 10701.935000000001, 0.5: 31989.91, 0.75: 92529.67}}"
            ]
          },
          "execution_count": 67,
          "metadata": {},
          "output_type": "execute_result"
        }
      ]
    },
    {
      "cell_type": "code",
      "metadata": {
        "id": "7_NHazigSCRH"
      },
      "source": [
        "#%% create a segmented RFM table\n",
        "rfmSegment = rfmTable.copy()"
      ],
      "execution_count": null,
      "outputs": []
    },
    {
      "cell_type": "code",
      "metadata": {
        "id": "wn-LGNWhSCRH"
      },
      "source": [
        "#%% create functions for calculating scores per order\n",
        "def scoreRecency(x,p,d): # low recency is best and is assigned 1\n",
        "    if x <= d[p][0.25]:return 1\n",
        "    elif x <= d[p][0.50]:return 2\n",
        "    elif x <= d[p][0.75]:return 3\n",
        "    else:return 4"
      ],
      "execution_count": null,
      "outputs": []
    },
    {
      "cell_type": "code",
      "metadata": {
        "id": "H6ymqzlHSCRI"
      },
      "source": [
        "def scoreFrequency(x,p,d): # high frequency is best and is assigned 1\n",
        "    if x <= d[p][0.25]:return 4\n",
        "    elif x <= d[p][0.50]:return 3\n",
        "    elif x <= d[p][0.75]:return 2\n",
        "    else:return 1"
      ],
      "execution_count": null,
      "outputs": []
    },
    {
      "cell_type": "code",
      "metadata": {
        "id": "pz2GJO2mSCRI"
      },
      "source": [
        "def scoreMonetary(x,p,d): # high monetary is best and is assigned 1\n",
        "    if x <= d[p][0.25]:return 4\n",
        "    elif x <= d[p][0.50]:return 3\n",
        "    elif x <= d[p][0.75]:return 2\n",
        "    else:return 1"
      ],
      "execution_count": null,
      "outputs": []
    },
    {
      "cell_type": "code",
      "metadata": {
        "id": "PFurVhetSCRI",
        "outputId": "3a08f0ea-5f0e-4c69-84d9-fac97eab5ae5"
      },
      "source": [
        "#%% create new columns for RFM and assign values based on quantile\n",
        "rfmSegment['R_qt'] = rfmSegment['Recency'].apply(scoreRecency, args=('Recency',quantiles,))\n",
        "rfmSegment['F_qt'] = rfmSegment['Frequency'].apply(scoreFrequency, args=('Frequency',quantiles,))\n",
        "rfmSegment['M_qt'] = rfmSegment['Monetary'].apply(scoreMonetary, args=('Monetary',quantiles,))\n",
        "rfmSegment.head()\n"
      ],
      "execution_count": null,
      "outputs": [
        {
          "data": {
            "text/html": [
              "<div>\n",
              "<style scoped>\n",
              "    .dataframe tbody tr th:only-of-type {\n",
              "        vertical-align: middle;\n",
              "    }\n",
              "\n",
              "    .dataframe tbody tr th {\n",
              "        vertical-align: top;\n",
              "    }\n",
              "\n",
              "    .dataframe thead th {\n",
              "        text-align: right;\n",
              "    }\n",
              "</style>\n",
              "<table border=\"1\" class=\"dataframe\">\n",
              "  <thead>\n",
              "    <tr style=\"text-align: right;\">\n",
              "      <th></th>\n",
              "      <th>Recency</th>\n",
              "      <th>Frequency</th>\n",
              "      <th>Monetary</th>\n",
              "      <th>R_qt</th>\n",
              "      <th>F_qt</th>\n",
              "      <th>M_qt</th>\n",
              "    </tr>\n",
              "    <tr>\n",
              "      <th>Customer_Code</th>\n",
              "      <th></th>\n",
              "      <th></th>\n",
              "      <th></th>\n",
              "      <th></th>\n",
              "      <th></th>\n",
              "      <th></th>\n",
              "    </tr>\n",
              "  </thead>\n",
              "  <tbody>\n",
              "    <tr>\n",
              "      <th>30000040295</th>\n",
              "      <td>32</td>\n",
              "      <td>33</td>\n",
              "      <td>25121.38</td>\n",
              "      <td>3</td>\n",
              "      <td>3</td>\n",
              "      <td>3</td>\n",
              "    </tr>\n",
              "    <tr>\n",
              "      <th>30000040297</th>\n",
              "      <td>1</td>\n",
              "      <td>151</td>\n",
              "      <td>74831.35</td>\n",
              "      <td>1</td>\n",
              "      <td>1</td>\n",
              "      <td>2</td>\n",
              "    </tr>\n",
              "    <tr>\n",
              "      <th>30000040301</th>\n",
              "      <td>0</td>\n",
              "      <td>195</td>\n",
              "      <td>153532.74</td>\n",
              "      <td>1</td>\n",
              "      <td>1</td>\n",
              "      <td>1</td>\n",
              "    </tr>\n",
              "    <tr>\n",
              "      <th>30000040302</th>\n",
              "      <td>0</td>\n",
              "      <td>162</td>\n",
              "      <td>109917.62</td>\n",
              "      <td>1</td>\n",
              "      <td>1</td>\n",
              "      <td>1</td>\n",
              "    </tr>\n",
              "    <tr>\n",
              "      <th>30000040303</th>\n",
              "      <td>4</td>\n",
              "      <td>50</td>\n",
              "      <td>40630.88</td>\n",
              "      <td>1</td>\n",
              "      <td>2</td>\n",
              "      <td>2</td>\n",
              "    </tr>\n",
              "  </tbody>\n",
              "</table>\n",
              "</div>"
            ],
            "text/plain": [
              "               Recency  Frequency   Monetary  R_qt  F_qt  M_qt\n",
              "Customer_Code                                                 \n",
              "30000040295         32         33   25121.38     3     3     3\n",
              "30000040297          1        151   74831.35     1     1     2\n",
              "30000040301          0        195  153532.74     1     1     1\n",
              "30000040302          0        162  109917.62     1     1     1\n",
              "30000040303          4         50   40630.88     1     2     2"
            ]
          },
          "execution_count": 72,
          "metadata": {},
          "output_type": "execute_result"
        }
      ]
    },
    {
      "cell_type": "code",
      "metadata": {
        "id": "rVwn8x8DSCRJ"
      },
      "source": [
        "#%% calculate total RFM score as string composed of individual RFM quantiles\n",
        "rfmSegment['RFM'] = rfmSegment.R_qt.map(str) \\\n",
        "                  + rfmSegment.F_qt.map(str) \\\n",
        "                  + rfmSegment.M_qt.map(str)"
      ],
      "execution_count": null,
      "outputs": []
    },
    {
      "cell_type": "code",
      "metadata": {
        "id": "JNZ8ZkKbSCRK",
        "outputId": "407e28af-e922-456c-bd0e-0519a1d15d9d"
      },
      "source": [
        "#%% translate raw RFM values to log values for plotting, common log\n",
        "import seaborn as sns\n",
        "import numpy as np\n",
        "rfmSegment = rfmSegment.assign(R_lg = lambda x: np.log10(x.Recency))\n",
        "rfmSegment = rfmSegment.assign(F_lg = lambda x: np.log10(x.Frequency))\n",
        "rfmSegment = rfmSegment.assign(M_lg = lambda x: np.log10(x.Monetary))"
      ],
      "execution_count": null,
      "outputs": [
        {
          "name": "stderr",
          "output_type": "stream",
          "text": [
            "/home/arvind/anaconda3/lib/python3.7/site-packages/pandas/core/series.py:679: RuntimeWarning: divide by zero encountered in log10\n",
            "  result = getattr(ufunc, method)(*inputs, **kwargs)\n"
          ]
        }
      ]
    },
    {
      "cell_type": "code",
      "metadata": {
        "id": "m813JHoLSCRM"
      },
      "source": [
        "#%% isolate to high/low value customers and sort by customer monetary value\n",
        "bestCustomers = rfmSegment[rfmSegment['RFM'].isin(['311', '411'])].sort_values('Monetary', ascending=False)\n",
        "worstCustomers = rfmSegment[rfmSegment['RFM'] == '444'].sort_values('Monetary', ascending=False)"
      ],
      "execution_count": null,
      "outputs": []
    },
    {
      "cell_type": "code",
      "metadata": {
        "id": "FhVyq4a2SCRM",
        "outputId": "7f54a5e6-8d25-4d66-cafb-f655efc53590"
      },
      "source": [
        "#%% plot frequency versus monetary of best customers\n",
        "g = sns.JointGrid(x=\"F_lg\", y=\"M_lg\", data=bestCustomers, size=6)\n",
        "g = g.plot(sns.regplot, sns.distplot). \\\n",
        "    plot_joint(sns.kdeplot, zorder=0, n_levels=6). \\\n",
        "    set_axis_labels(\"Frequency (log10)\", \"Monetary (log10)\")"
      ],
      "execution_count": null,
      "outputs": [
        {
          "name": "stderr",
          "output_type": "stream",
          "text": [
            "/home/arvind/anaconda3/lib/python3.7/site-packages/seaborn/axisgrid.py:1673: UserWarning: The `size` parameter has been renamed to `height`; please update your code.\n",
            "  warnings.warn(msg, UserWarning)\n"
          ]
        },
        {
          "data": {
            "image/png": "[encoded data removed]",
            "text/plain": [
              "<Figure size 432x432 with 3 Axes>"
            ]
          },
          "metadata": {
            "needs_background": "light"
          },
          "output_type": "display_data"
        }
      ]
    },
    {
      "cell_type": "code",
      "metadata": {
        "id": "Ysfj_xNrSCRN",
        "outputId": "03784585-45f6-4144-da66-b65e8183f868"
      },
      "source": [
        "#%% use hue argument to provide a factor variable by RFM score\n",
        "h = sns.lmplot(x=\"F_lg\", y=\"M_lg\", data=bestCustomers, size=6, hue='RFM'). \\\n",
        "    set_axis_labels(\"Frequency (log10)\", \"Monetary (log10)\")\n"
      ],
      "execution_count": null,
      "outputs": [
        {
          "name": "stderr",
          "output_type": "stream",
          "text": [
            "/home/arvind/anaconda3/lib/python3.7/site-packages/seaborn/regression.py:574: UserWarning: The `size` parameter has been renamed to `height`; please update your code.\n",
            "  warnings.warn(msg, UserWarning)\n"
          ]
        },
        {
          "data": {
            "image/png": "[encoded data removed]",
            "text/plain": [
              "<Figure size 487x432 with 1 Axes>"
            ]
          },
          "metadata": {
            "needs_background": "light"
          },
          "output_type": "display_data"
        }
      ]
    },
    {
      "cell_type": "code",
      "metadata": {
        "id": "W8bUvCWcSCRO"
      },
      "source": [
        ""
      ],
      "execution_count": null,
      "outputs": []
    }
  ]
}