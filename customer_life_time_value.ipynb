{
  "nbformat": 4,
  "nbformat_minor": 0,
  "metadata": {
    "kernelspec": {
      "display_name": "Python 3",
      "language": "python",
      "name": "python3"
    },
    "language_info": {
      "codemirror_mode": {
        "name": "ipython",
        "version": 3
      },
      "file_extension": ".py",
      "mimetype": "text/x-python",
      "name": "python",
      "nbconvert_exporter": "python",
      "pygments_lexer": "ipython3",
      "version": "3.7.6"
    },
    "colab": {
      "name": "customer life time value.ipynb",
      "provenance": [],
      "include_colab_link": true
    }
  },
  "cells": [
    {
      "cell_type": "markdown",
      "metadata": {
        "id": "view-in-github",
        "colab_type": "text"
      },
      "source": [
        "<a href=\"https://colab.research.google.com/github/Bandna123/BK-_RevaPGDBM_MyProjects/blob/master/customer_life_time_value.ipynb\" target=\"_parent\"><img src=\"https://colab.research.google.com/assets/colab-badge.svg\" alt=\"Open In Colab\"/></a>"
      ]
    },
    {
      "cell_type": "code",
      "metadata": {
        "id": "Mayq37g_SV3e",
        "outputId": "50e266c0-0f97-4db6-b4d4-0aef267e0e32"
      },
      "source": [
        "# Importing the dataset\n",
        "import pandas as pd\n",
        "import pandas as pd\n",
        "import matplotlib.pyplot as plt\n",
        "import seaborn as sns\n",
        "from sklearn.cluster import KMeans\n",
        "from sklearn.decomposition import PCA\n",
        "dataset = pd.read_excel(\"cs.xlsx\",encoding=\"ISO-8859-1\",dtype={'Customer_Code': str,'Invoice_No': str})\n",
        "dataset['Invoice_Date'] = pd.to_datetime(dataset['Invoice_Date'])\n",
        "dataset.shape\n",
        "dataset.head(5)"
      ],
      "execution_count": null,
      "outputs": [
        {
          "data": {
            "text/html": [
              "<div>\n",
              "<style scoped>\n",
              "    .dataframe tbody tr th:only-of-type {\n",
              "        vertical-align: middle;\n",
              "    }\n",
              "\n",
              "    .dataframe tbody tr th {\n",
              "        vertical-align: top;\n",
              "    }\n",
              "\n",
              "    .dataframe thead th {\n",
              "        text-align: right;\n",
              "    }\n",
              "</style>\n",
              "<table border=\"1\" class=\"dataframe\">\n",
              "  <thead>\n",
              "    <tr style=\"text-align: right;\">\n",
              "      <th></th>\n",
              "      <th>Invoice_No</th>\n",
              "      <th>SKU_Code</th>\n",
              "      <th>Business_Partner</th>\n",
              "      <th>Item_Description</th>\n",
              "      <th>Quantity</th>\n",
              "      <th>Invoice_Date</th>\n",
              "      <th>Unit_Price</th>\n",
              "      <th>Customer_Code</th>\n",
              "      <th>Invoice_Description</th>\n",
              "      <th>Total_Value</th>\n",
              "      <th>Customer_City</th>\n",
              "      <th>State</th>\n",
              "    </tr>\n",
              "  </thead>\n",
              "  <tbody>\n",
              "    <tr>\n",
              "      <th>0</th>\n",
              "      <td>1596180042798</td>\n",
              "      <td>66555338</td>\n",
              "      <td>U K OPTICAL CENTRE</td>\n",
              "      <td>AIROPTIX AQC SPH 6PK  -0400</td>\n",
              "      <td>-1</td>\n",
              "      <td>2019-04-01</td>\n",
              "      <td>883.93</td>\n",
              "      <td>30000041419</td>\n",
              "      <td>wrongly order punched</td>\n",
              "      <td>-883.93</td>\n",
              "      <td>Bangalore</td>\n",
              "      <td>Karnataka</td>\n",
              "    </tr>\n",
              "    <tr>\n",
              "      <th>1</th>\n",
              "      <td>1596180042799</td>\n",
              "      <td>411226</td>\n",
              "      <td>VISION WORLD PVT LTD</td>\n",
              "      <td>OPTIX 6P  -0350</td>\n",
              "      <td>-1</td>\n",
              "      <td>2019-04-01</td>\n",
              "      <td>530.80</td>\n",
              "      <td>30000041496</td>\n",
              "      <td>wrongly order punched</td>\n",
              "      <td>-530.80</td>\n",
              "      <td>Bangalore</td>\n",
              "      <td>Karnataka</td>\n",
              "    </tr>\n",
              "    <tr>\n",
              "      <th>2</th>\n",
              "      <td>1596180042800</td>\n",
              "      <td>66532759</td>\n",
              "      <td>JAWAHAR OPTICIANS</td>\n",
              "      <td>AIROPTIX TORIC 3-PK -0475 125 030</td>\n",
              "      <td>-1</td>\n",
              "      <td>2019-04-01</td>\n",
              "      <td>491.07</td>\n",
              "      <td>30000041081</td>\n",
              "      <td>sales return against no:159618003/8842 dt:25-1...</td>\n",
              "      <td>-491.07</td>\n",
              "      <td>Dharwad</td>\n",
              "      <td>Karnataka</td>\n",
              "    </tr>\n",
              "    <tr>\n",
              "      <th>3</th>\n",
              "      <td>1596180042801</td>\n",
              "      <td>66555185</td>\n",
              "      <td>EYE PLUS OPTICIANS</td>\n",
              "      <td>AIROPTIX AQC SPH 6PK  -0025</td>\n",
              "      <td>-1</td>\n",
              "      <td>2019-04-01</td>\n",
              "      <td>883.93</td>\n",
              "      <td>30000040955</td>\n",
              "      <td>NaN</td>\n",
              "      <td>-883.93</td>\n",
              "      <td>Hubli</td>\n",
              "      <td>Karnataka</td>\n",
              "    </tr>\n",
              "    <tr>\n",
              "      <th>4</th>\n",
              "      <td>1596180042802</td>\n",
              "      <td>545085</td>\n",
              "      <td>MIRLAY EYE CARE</td>\n",
              "      <td>FRESHLOOK 1-D COL 10  -0300  P HAZEL</td>\n",
              "      <td>-1</td>\n",
              "      <td>2019-04-01</td>\n",
              "      <td>441.96</td>\n",
              "      <td>30000041147</td>\n",
              "      <td>customer cancel the order</td>\n",
              "      <td>-441.96</td>\n",
              "      <td>Bangalore</td>\n",
              "      <td>Karnataka</td>\n",
              "    </tr>\n",
              "  </tbody>\n",
              "</table>\n",
              "</div>"
            ],
            "text/plain": [
              "      Invoice_No  SKU_Code      Business_Partner  \\\n",
              "0  1596180042798  66555338    U K OPTICAL CENTRE   \n",
              "1  1596180042799    411226  VISION WORLD PVT LTD   \n",
              "2  1596180042800  66532759     JAWAHAR OPTICIANS   \n",
              "3  1596180042801  66555185    EYE PLUS OPTICIANS   \n",
              "4  1596180042802    545085       MIRLAY EYE CARE   \n",
              "\n",
              "                       Item_Description  Quantity Invoice_Date  Unit_Price  \\\n",
              "0           AIROPTIX AQC SPH 6PK  -0400        -1   2019-04-01      883.93   \n",
              "1                       OPTIX 6P  -0350        -1   2019-04-01      530.80   \n",
              "2     AIROPTIX TORIC 3-PK -0475 125 030        -1   2019-04-01      491.07   \n",
              "3           AIROPTIX AQC SPH 6PK  -0025        -1   2019-04-01      883.93   \n",
              "4  FRESHLOOK 1-D COL 10  -0300  P HAZEL        -1   2019-04-01      441.96   \n",
              "\n",
              "  Customer_Code                                Invoice_Description  \\\n",
              "0   30000041419                              wrongly order punched   \n",
              "1   30000041496                              wrongly order punched   \n",
              "2   30000041081  sales return against no:159618003/8842 dt:25-1...   \n",
              "3   30000040955                                                NaN   \n",
              "4   30000041147                          customer cancel the order   \n",
              "\n",
              "   Total_Value Customer_City      State  \n",
              "0      -883.93     Bangalore  Karnataka  \n",
              "1      -530.80     Bangalore  Karnataka  \n",
              "2      -491.07       Dharwad  Karnataka  \n",
              "3      -883.93         Hubli  Karnataka  \n",
              "4      -441.96     Bangalore  Karnataka  "
            ]
          },
          "execution_count": 1,
          "metadata": {},
          "output_type": "execute_result"
        }
      ]
    },
    {
      "cell_type": "code",
      "metadata": {
        "id": "zYgtC6fvSV3k"
      },
      "source": [
        "filtered_data=dataset[['State','Customer_Code']].drop_duplicates()"
      ],
      "execution_count": null,
      "outputs": []
    },
    {
      "cell_type": "code",
      "metadata": {
        "id": "--wPbLmxSV3m",
        "outputId": "acb25f61-6752-4a13-8467-ca05b02dc287"
      },
      "source": [
        "#Top ten State's customer\n",
        "filtered_data.State.value_counts()[:10].plot(kind='bar')"
      ],
      "execution_count": null,
      "outputs": [
        {
          "data": {
            "text/plain": [
              "<matplotlib.axes._subplots.AxesSubplot at 0x7f00516bb250>"
            ]
          },
          "execution_count": 4,
          "metadata": {},
          "output_type": "execute_result"
        },
        {
          "data": {
            "image/png": "[encoded data removed]",
            "text/plain": [
              "<Figure size 432x288 with 1 Axes>"
            ]
          },
          "metadata": {
            "needs_background": "light"
          },
          "output_type": "display_data"
        }
      ]
    },
    {
      "cell_type": "code",
      "metadata": {
        "id": "XUsIHNW3SV3p",
        "outputId": "c0a705f9-5cfa-4922-cadd-2dba1263c10d"
      },
      "source": [
        "mh_data=dataset[dataset.State=='Maharashtra']\n",
        "mh_data.info()"
      ],
      "execution_count": null,
      "outputs": [
        {
          "name": "stdout",
          "output_type": "stream",
          "text": [
            "<class 'pandas.core.frame.DataFrame'>\n",
            "Int64Index: 83567 entries, 120 to 279988\n",
            "Data columns (total 12 columns):\n",
            " #   Column               Non-Null Count  Dtype         \n",
            "---  ------               --------------  -----         \n",
            " 0   Invoice_No           83567 non-null  object        \n",
            " 1   SKU_Code             83567 non-null  object        \n",
            " 2   Business_Partner     83567 non-null  object        \n",
            " 3   Item_Description     83567 non-null  object        \n",
            " 4   Quantity             83567 non-null  int64         \n",
            " 5   Invoice_Date         83567 non-null  datetime64[ns]\n",
            " 6   Unit_Price           83567 non-null  float64       \n",
            " 7   Customer_Code        83567 non-null  object        \n",
            " 8   Invoice_Description  53377 non-null  object        \n",
            " 9   Total_Value          83567 non-null  float64       \n",
            " 10  Customer_City        83567 non-null  object        \n",
            " 11  State                83567 non-null  object        \n",
            "dtypes: datetime64[ns](1), float64(2), int64(1), object(8)\n",
            "memory usage: 8.3+ MB\n"
          ]
        }
      ]
    },
    {
      "cell_type": "code",
      "metadata": {
        "id": "uKFei70dSV3q",
        "outputId": "badfaa50-f10e-4c23-916f-06e257606c2c"
      },
      "source": [
        "mh_data.describe()"
      ],
      "execution_count": null,
      "outputs": [
        {
          "data": {
            "text/html": [
              "<div>\n",
              "<style scoped>\n",
              "    .dataframe tbody tr th:only-of-type {\n",
              "        vertical-align: middle;\n",
              "    }\n",
              "\n",
              "    .dataframe tbody tr th {\n",
              "        vertical-align: top;\n",
              "    }\n",
              "\n",
              "    .dataframe thead th {\n",
              "        text-align: right;\n",
              "    }\n",
              "</style>\n",
              "<table border=\"1\" class=\"dataframe\">\n",
              "  <thead>\n",
              "    <tr style=\"text-align: right;\">\n",
              "      <th></th>\n",
              "      <th>Quantity</th>\n",
              "      <th>Unit_Price</th>\n",
              "      <th>Total_Value</th>\n",
              "    </tr>\n",
              "  </thead>\n",
              "  <tbody>\n",
              "    <tr>\n",
              "      <th>count</th>\n",
              "      <td>83567.000000</td>\n",
              "      <td>83567.000000</td>\n",
              "      <td>83567.000000</td>\n",
              "    </tr>\n",
              "    <tr>\n",
              "      <th>mean</th>\n",
              "      <td>2.762299</td>\n",
              "      <td>641.053747</td>\n",
              "      <td>1449.277427</td>\n",
              "    </tr>\n",
              "    <tr>\n",
              "      <th>std</th>\n",
              "      <td>11.016211</td>\n",
              "      <td>361.346978</td>\n",
              "      <td>4188.939870</td>\n",
              "    </tr>\n",
              "    <tr>\n",
              "      <th>min</th>\n",
              "      <td>-247.000000</td>\n",
              "      <td>0.000000</td>\n",
              "      <td>-83589.090000</td>\n",
              "    </tr>\n",
              "    <tr>\n",
              "      <th>25%</th>\n",
              "      <td>1.000000</td>\n",
              "      <td>433.040000</td>\n",
              "      <td>441.960000</td>\n",
              "    </tr>\n",
              "    <tr>\n",
              "      <th>50%</th>\n",
              "      <td>1.000000</td>\n",
              "      <td>578.610000</td>\n",
              "      <td>831.150000</td>\n",
              "    </tr>\n",
              "    <tr>\n",
              "      <th>75%</th>\n",
              "      <td>2.000000</td>\n",
              "      <td>883.930000</td>\n",
              "      <td>1299.110000</td>\n",
              "    </tr>\n",
              "    <tr>\n",
              "      <th>max</th>\n",
              "      <td>752.000000</td>\n",
              "      <td>25230.000000</td>\n",
              "      <td>332357.140000</td>\n",
              "    </tr>\n",
              "  </tbody>\n",
              "</table>\n",
              "</div>"
            ],
            "text/plain": [
              "           Quantity    Unit_Price    Total_Value\n",
              "count  83567.000000  83567.000000   83567.000000\n",
              "mean       2.762299    641.053747    1449.277427\n",
              "std       11.016211    361.346978    4188.939870\n",
              "min     -247.000000      0.000000  -83589.090000\n",
              "25%        1.000000    433.040000     441.960000\n",
              "50%        1.000000    578.610000     831.150000\n",
              "75%        2.000000    883.930000    1299.110000\n",
              "max      752.000000  25230.000000  332357.140000"
            ]
          },
          "execution_count": 10,
          "metadata": {},
          "output_type": "execute_result"
        }
      ]
    },
    {
      "cell_type": "code",
      "metadata": {
        "id": "1bfBeAkvSV3r",
        "outputId": "588d243d-e559-4995-def1-2c95680f7df7"
      },
      "source": [
        "mh_data = mh_data[(mh_data['Quantity']>0)]\n",
        "mh_data.info()"
      ],
      "execution_count": null,
      "outputs": [
        {
          "name": "stdout",
          "output_type": "stream",
          "text": [
            "<class 'pandas.core.frame.DataFrame'>\n",
            "Int64Index: 79024 entries, 2902 to 279814\n",
            "Data columns (total 12 columns):\n",
            " #   Column               Non-Null Count  Dtype         \n",
            "---  ------               --------------  -----         \n",
            " 0   Invoice_No           79024 non-null  object        \n",
            " 1   SKU_Code             79024 non-null  object        \n",
            " 2   Business_Partner     79024 non-null  object        \n",
            " 3   Item_Description     79024 non-null  object        \n",
            " 4   Quantity             79024 non-null  int64         \n",
            " 5   Invoice_Date         79024 non-null  datetime64[ns]\n",
            " 6   Unit_Price           79024 non-null  float64       \n",
            " 7   Customer_Code        79024 non-null  object        \n",
            " 8   Invoice_Description  49919 non-null  object        \n",
            " 9   Total_Value          79024 non-null  float64       \n",
            " 10  Customer_City        79024 non-null  object        \n",
            " 11  State                79024 non-null  object        \n",
            "dtypes: datetime64[ns](1), float64(2), int64(1), object(8)\n",
            "memory usage: 7.8+ MB\n"
          ]
        }
      ]
    },
    {
      "cell_type": "code",
      "metadata": {
        "id": "4HtRUsTqSV3u"
      },
      "source": [
        "mh_data=mh_data[['Customer_Code','Invoice_Date','Invoice_No','Quantity','Unit_Price']]\n",
        "#Calulate total purchase\n",
        "mh_data['TotalPurchase'] = mh_data['Quantity'] * mh_data['Unit_Price']"
      ],
      "execution_count": null,
      "outputs": []
    },
    {
      "cell_type": "code",
      "metadata": {
        "id": "Nm3zYn_aSV3w"
      },
      "source": [
        "mh_data_group=mh_data.groupby('Customer_Code').agg({'Invoice_Date': lambda date: (date.max() - date.min()).days,\n",
        "                                        'Invoice_No': lambda num: len(num),\n",
        "                                        'Quantity': lambda quant: quant.sum(),\n",
        "                                        'TotalPurchase': lambda price: price.sum()})"
      ],
      "execution_count": null,
      "outputs": []
    },
    {
      "cell_type": "code",
      "metadata": {
        "id": "IxNG5euqSV30",
        "outputId": "cfd26e22-67ef-40b0-90a2-dc484d8f7eb1"
      },
      "source": [
        "mh_data_group.head()"
      ],
      "execution_count": null,
      "outputs": [
        {
          "data": {
            "text/html": [
              "<div>\n",
              "<style scoped>\n",
              "    .dataframe tbody tr th:only-of-type {\n",
              "        vertical-align: middle;\n",
              "    }\n",
              "\n",
              "    .dataframe tbody tr th {\n",
              "        vertical-align: top;\n",
              "    }\n",
              "\n",
              "    .dataframe thead th {\n",
              "        text-align: right;\n",
              "    }\n",
              "</style>\n",
              "<table border=\"1\" class=\"dataframe\">\n",
              "  <thead>\n",
              "    <tr style=\"text-align: right;\">\n",
              "      <th></th>\n",
              "      <th>Invoice_Date</th>\n",
              "      <th>Invoice_No</th>\n",
              "      <th>Quantity</th>\n",
              "      <th>TotalPurchase</th>\n",
              "    </tr>\n",
              "    <tr>\n",
              "      <th>Customer_Code</th>\n",
              "      <th></th>\n",
              "      <th></th>\n",
              "      <th></th>\n",
              "      <th></th>\n",
              "    </tr>\n",
              "  </thead>\n",
              "  <tbody>\n",
              "    <tr>\n",
              "      <th>30000040543</th>\n",
              "      <td>335</td>\n",
              "      <td>13</td>\n",
              "      <td>13</td>\n",
              "      <td>7343.89</td>\n",
              "    </tr>\n",
              "    <tr>\n",
              "      <th>30000041505</th>\n",
              "      <td>140</td>\n",
              "      <td>24</td>\n",
              "      <td>275</td>\n",
              "      <td>94578.16</td>\n",
              "    </tr>\n",
              "    <tr>\n",
              "      <th>30000041511</th>\n",
              "      <td>251</td>\n",
              "      <td>25</td>\n",
              "      <td>2659</td>\n",
              "      <td>632302.18</td>\n",
              "    </tr>\n",
              "    <tr>\n",
              "      <th>30000041516</th>\n",
              "      <td>349</td>\n",
              "      <td>36</td>\n",
              "      <td>40</td>\n",
              "      <td>21202.54</td>\n",
              "    </tr>\n",
              "    <tr>\n",
              "      <th>30000041517</th>\n",
              "      <td>295</td>\n",
              "      <td>32</td>\n",
              "      <td>52</td>\n",
              "      <td>20915.13</td>\n",
              "    </tr>\n",
              "  </tbody>\n",
              "</table>\n",
              "</div>"
            ],
            "text/plain": [
              "               Invoice_Date  Invoice_No  Quantity  TotalPurchase\n",
              "Customer_Code                                                   \n",
              "30000040543             335          13        13        7343.89\n",
              "30000041505             140          24       275       94578.16\n",
              "30000041511             251          25      2659      632302.18\n",
              "30000041516             349          36        40       21202.54\n",
              "30000041517             295          32        52       20915.13"
            ]
          },
          "execution_count": 18,
          "metadata": {},
          "output_type": "execute_result"
        }
      ]
    },
    {
      "cell_type": "code",
      "metadata": {
        "id": "-mpAUJxLSV33",
        "outputId": "24d26b97-08d9-4c66-917a-5156e5d2bd1a"
      },
      "source": [
        "# Change the name of columns\n",
        "mh_data_group.columns=['num_days','num_transactions','num_units','spent_money']\n",
        "mh_data_group.head()"
      ],
      "execution_count": null,
      "outputs": [
        {
          "data": {
            "text/html": [
              "<div>\n",
              "<style scoped>\n",
              "    .dataframe tbody tr th:only-of-type {\n",
              "        vertical-align: middle;\n",
              "    }\n",
              "\n",
              "    .dataframe tbody tr th {\n",
              "        vertical-align: top;\n",
              "    }\n",
              "\n",
              "    .dataframe thead th {\n",
              "        text-align: right;\n",
              "    }\n",
              "</style>\n",
              "<table border=\"1\" class=\"dataframe\">\n",
              "  <thead>\n",
              "    <tr style=\"text-align: right;\">\n",
              "      <th></th>\n",
              "      <th>num_days</th>\n",
              "      <th>num_transactions</th>\n",
              "      <th>num_units</th>\n",
              "      <th>spent_money</th>\n",
              "    </tr>\n",
              "    <tr>\n",
              "      <th>Customer_Code</th>\n",
              "      <th></th>\n",
              "      <th></th>\n",
              "      <th></th>\n",
              "      <th></th>\n",
              "    </tr>\n",
              "  </thead>\n",
              "  <tbody>\n",
              "    <tr>\n",
              "      <th>30000040543</th>\n",
              "      <td>335</td>\n",
              "      <td>13</td>\n",
              "      <td>13</td>\n",
              "      <td>7343.89</td>\n",
              "    </tr>\n",
              "    <tr>\n",
              "      <th>30000041505</th>\n",
              "      <td>140</td>\n",
              "      <td>24</td>\n",
              "      <td>275</td>\n",
              "      <td>94578.16</td>\n",
              "    </tr>\n",
              "    <tr>\n",
              "      <th>30000041511</th>\n",
              "      <td>251</td>\n",
              "      <td>25</td>\n",
              "      <td>2659</td>\n",
              "      <td>632302.18</td>\n",
              "    </tr>\n",
              "    <tr>\n",
              "      <th>30000041516</th>\n",
              "      <td>349</td>\n",
              "      <td>36</td>\n",
              "      <td>40</td>\n",
              "      <td>21202.54</td>\n",
              "    </tr>\n",
              "    <tr>\n",
              "      <th>30000041517</th>\n",
              "      <td>295</td>\n",
              "      <td>32</td>\n",
              "      <td>52</td>\n",
              "      <td>20915.13</td>\n",
              "    </tr>\n",
              "  </tbody>\n",
              "</table>\n",
              "</div>"
            ],
            "text/plain": [
              "               num_days  num_transactions  num_units  spent_money\n",
              "Customer_Code                                                    \n",
              "30000040543         335                13         13      7343.89\n",
              "30000041505         140                24        275     94578.16\n",
              "30000041511         251                25       2659    632302.18\n",
              "30000041516         349                36         40     21202.54\n",
              "30000041517         295                32         52     20915.13"
            ]
          },
          "execution_count": 19,
          "metadata": {},
          "output_type": "execute_result"
        }
      ]
    },
    {
      "cell_type": "markdown",
      "metadata": {
        "id": "ewjuMZLESV35"
      },
      "source": [
        "CLTV = ((Average Order Value x Purchase Frequency)/Churn Rate) x Profit margin.\n",
        "\n",
        " Customer Value = Average Order Value * Purchase Frequency"
      ]
    },
    {
      "cell_type": "code",
      "metadata": {
        "id": "drvo-DwCSV35"
      },
      "source": [
        "# Average Order Value\n",
        "mh_data_group['avg_order_value']=mh_data_group['spent_money']/mh_data_group['num_transactions']"
      ],
      "execution_count": null,
      "outputs": []
    },
    {
      "cell_type": "code",
      "metadata": {
        "id": "Y9oEwBr7SV36",
        "outputId": "a9ac5219-4992-429e-ef42-7b74b308459c"
      },
      "source": [
        "mh_data.head()"
      ],
      "execution_count": null,
      "outputs": [
        {
          "data": {
            "text/html": [
              "<div>\n",
              "<style scoped>\n",
              "    .dataframe tbody tr th:only-of-type {\n",
              "        vertical-align: middle;\n",
              "    }\n",
              "\n",
              "    .dataframe tbody tr th {\n",
              "        vertical-align: top;\n",
              "    }\n",
              "\n",
              "    .dataframe thead th {\n",
              "        text-align: right;\n",
              "    }\n",
              "</style>\n",
              "<table border=\"1\" class=\"dataframe\">\n",
              "  <thead>\n",
              "    <tr style=\"text-align: right;\">\n",
              "      <th></th>\n",
              "      <th>Customer_Code</th>\n",
              "      <th>Invoice_Date</th>\n",
              "      <th>Invoice_No</th>\n",
              "      <th>Quantity</th>\n",
              "      <th>Unit_Price</th>\n",
              "      <th>TotalPurchase</th>\n",
              "    </tr>\n",
              "  </thead>\n",
              "  <tbody>\n",
              "    <tr>\n",
              "      <th>2902</th>\n",
              "      <td>30000041602</td>\n",
              "      <td>2019-01-01</td>\n",
              "      <td>1600180035743</td>\n",
              "      <td>1</td>\n",
              "      <td>433.040000</td>\n",
              "      <td>433.04</td>\n",
              "    </tr>\n",
              "    <tr>\n",
              "      <th>2903</th>\n",
              "      <td>30000041774</td>\n",
              "      <td>2019-01-01</td>\n",
              "      <td>1600180035744</td>\n",
              "      <td>1</td>\n",
              "      <td>441.960000</td>\n",
              "      <td>441.96</td>\n",
              "    </tr>\n",
              "    <tr>\n",
              "      <th>2904</th>\n",
              "      <td>30000041774</td>\n",
              "      <td>2019-01-01</td>\n",
              "      <td>1600180035745</td>\n",
              "      <td>3</td>\n",
              "      <td>374.840000</td>\n",
              "      <td>1124.52</td>\n",
              "    </tr>\n",
              "    <tr>\n",
              "      <th>2905</th>\n",
              "      <td>30000041774</td>\n",
              "      <td>2019-01-01</td>\n",
              "      <td>1600180035745</td>\n",
              "      <td>3</td>\n",
              "      <td>140.153333</td>\n",
              "      <td>420.46</td>\n",
              "    </tr>\n",
              "    <tr>\n",
              "      <th>2907</th>\n",
              "      <td>30000055455</td>\n",
              "      <td>2019-01-01</td>\n",
              "      <td>1600180035747</td>\n",
              "      <td>1</td>\n",
              "      <td>491.070000</td>\n",
              "      <td>491.07</td>\n",
              "    </tr>\n",
              "  </tbody>\n",
              "</table>\n",
              "</div>"
            ],
            "text/plain": [
              "     Customer_Code Invoice_Date     Invoice_No  Quantity  Unit_Price  \\\n",
              "2902   30000041602   2019-01-01  1600180035743         1  433.040000   \n",
              "2903   30000041774   2019-01-01  1600180035744         1  441.960000   \n",
              "2904   30000041774   2019-01-01  1600180035745         3  374.840000   \n",
              "2905   30000041774   2019-01-01  1600180035745         3  140.153333   \n",
              "2907   30000055455   2019-01-01  1600180035747         1  491.070000   \n",
              "\n",
              "      TotalPurchase  \n",
              "2902         433.04  \n",
              "2903         441.96  \n",
              "2904        1124.52  \n",
              "2905         420.46  \n",
              "2907         491.07  "
            ]
          },
          "execution_count": 21,
          "metadata": {},
          "output_type": "execute_result"
        }
      ]
    },
    {
      "cell_type": "code",
      "metadata": {
        "id": "SzoGUCZ1SV37"
      },
      "source": [
        "#Calculate Purchase Frequency\n",
        "purchase_frequency=sum(mh_data_group['num_transactions'])/mh_data_group.shape[0]"
      ],
      "execution_count": null,
      "outputs": []
    },
    {
      "cell_type": "code",
      "metadata": {
        "id": "PSeKAaBTSV38"
      },
      "source": [
        "#Calculate Repeat Rate and Churn Rate\n",
        "# Repeat Rate\n",
        "repeat_rate=mh_data_group[mh_data_group.num_transactions > 1].shape[0]/mh_data_group.shape[0]"
      ],
      "execution_count": null,
      "outputs": []
    },
    {
      "cell_type": "code",
      "metadata": {
        "id": "1vwJe457SV38"
      },
      "source": [
        "#Churn Rate\n",
        "churn_rate=1-repeat_rate"
      ],
      "execution_count": null,
      "outputs": []
    },
    {
      "cell_type": "code",
      "metadata": {
        "id": "BoHLITwASV38",
        "outputId": "419e80d1-ac5f-4193-8913-32ea5127cde3"
      },
      "source": [
        "purchase_frequency,repeat_rate,churn_rate"
      ],
      "execution_count": null,
      "outputs": [
        {
          "data": {
            "text/plain": [
              "(87.70699223085461, 0.978912319644839, 0.021087680355160954)"
            ]
          },
          "execution_count": 25,
          "metadata": {},
          "output_type": "execute_result"
        }
      ]
    },
    {
      "cell_type": "code",
      "metadata": {
        "id": "8kf7u9WcSV39"
      },
      "source": [
        "# Profit Margin\n",
        "mh_data_group['profit_margin']=mh_data_group['spent_money']*0.05"
      ],
      "execution_count": null,
      "outputs": []
    },
    {
      "cell_type": "markdown",
      "metadata": {
        "id": "jiB2qoY7SV3-"
      },
      "source": [
        "### caulculate Customer life time value"
      ]
    },
    {
      "cell_type": "code",
      "metadata": {
        "id": "-78oP6goSV3-"
      },
      "source": [
        "# Customer Value\n",
        "mh_data_group['CLV']=(mh_data_group['avg_order_value']*purchase_frequency)/churn_rate"
      ],
      "execution_count": null,
      "outputs": []
    },
    {
      "cell_type": "code",
      "metadata": {
        "id": "IjlfiJE7SV3-"
      },
      "source": [
        "#Customer Lifetime Value\n",
        "mh_data_group['cust_lifetime_value']=mh_data_group['CLV']*mh_data_group['profit_margin']"
      ],
      "execution_count": null,
      "outputs": []
    },
    {
      "cell_type": "code",
      "metadata": {
        "id": "yB7tmnJHSV3_",
        "outputId": "973b0008-88c3-411c-d201-bbbf6ac89e4e"
      },
      "source": [
        "#Customer Lifetime Value\n",
        "mh_data_group.head()"
      ],
      "execution_count": null,
      "outputs": [
        {
          "data": {
            "text/html": [
              "<div>\n",
              "<style scoped>\n",
              "    .dataframe tbody tr th:only-of-type {\n",
              "        vertical-align: middle;\n",
              "    }\n",
              "\n",
              "    .dataframe tbody tr th {\n",
              "        vertical-align: top;\n",
              "    }\n",
              "\n",
              "    .dataframe thead th {\n",
              "        text-align: right;\n",
              "    }\n",
              "</style>\n",
              "<table border=\"1\" class=\"dataframe\">\n",
              "  <thead>\n",
              "    <tr style=\"text-align: right;\">\n",
              "      <th></th>\n",
              "      <th>num_days</th>\n",
              "      <th>num_transactions</th>\n",
              "      <th>num_units</th>\n",
              "      <th>spent_money</th>\n",
              "      <th>avg_order_value</th>\n",
              "      <th>profit_margin</th>\n",
              "      <th>CLV</th>\n",
              "      <th>cust_lifetime_value</th>\n",
              "    </tr>\n",
              "    <tr>\n",
              "      <th>Customer_Code</th>\n",
              "      <th></th>\n",
              "      <th></th>\n",
              "      <th></th>\n",
              "      <th></th>\n",
              "      <th></th>\n",
              "      <th></th>\n",
              "      <th></th>\n",
              "      <th></th>\n",
              "    </tr>\n",
              "  </thead>\n",
              "  <tbody>\n",
              "    <tr>\n",
              "      <th>30000040543</th>\n",
              "      <td>335</td>\n",
              "      <td>13</td>\n",
              "      <td>13</td>\n",
              "      <td>7343.89</td>\n",
              "      <td>564.914615</td>\n",
              "      <td>367.1945</td>\n",
              "      <td>2.349569e+06</td>\n",
              "      <td>8.627488e+08</td>\n",
              "    </tr>\n",
              "    <tr>\n",
              "      <th>30000041505</th>\n",
              "      <td>140</td>\n",
              "      <td>24</td>\n",
              "      <td>275</td>\n",
              "      <td>94578.16</td>\n",
              "      <td>3940.756667</td>\n",
              "      <td>4728.9080</td>\n",
              "      <td>1.639023e+07</td>\n",
              "      <td>7.750789e+10</td>\n",
              "    </tr>\n",
              "    <tr>\n",
              "      <th>30000041511</th>\n",
              "      <td>251</td>\n",
              "      <td>25</td>\n",
              "      <td>2659</td>\n",
              "      <td>632302.18</td>\n",
              "      <td>25292.087200</td>\n",
              "      <td>31615.1090</td>\n",
              "      <td>1.051938e+08</td>\n",
              "      <td>3.325713e+12</td>\n",
              "    </tr>\n",
              "    <tr>\n",
              "      <th>30000041516</th>\n",
              "      <td>349</td>\n",
              "      <td>36</td>\n",
              "      <td>40</td>\n",
              "      <td>21202.54</td>\n",
              "      <td>588.959444</td>\n",
              "      <td>1060.1270</td>\n",
              "      <td>2.449575e+06</td>\n",
              "      <td>2.596861e+09</td>\n",
              "    </tr>\n",
              "    <tr>\n",
              "      <th>30000041517</th>\n",
              "      <td>295</td>\n",
              "      <td>32</td>\n",
              "      <td>52</td>\n",
              "      <td>20915.13</td>\n",
              "      <td>653.597813</td>\n",
              "      <td>1045.7565</td>\n",
              "      <td>2.718417e+06</td>\n",
              "      <td>2.842802e+09</td>\n",
              "    </tr>\n",
              "  </tbody>\n",
              "</table>\n",
              "</div>"
            ],
            "text/plain": [
              "               num_days  num_transactions  num_units  spent_money  \\\n",
              "Customer_Code                                                       \n",
              "30000040543         335                13         13      7343.89   \n",
              "30000041505         140                24        275     94578.16   \n",
              "30000041511         251                25       2659    632302.18   \n",
              "30000041516         349                36         40     21202.54   \n",
              "30000041517         295                32         52     20915.13   \n",
              "\n",
              "               avg_order_value  profit_margin           CLV  \\\n",
              "Customer_Code                                                 \n",
              "30000040543         564.914615       367.1945  2.349569e+06   \n",
              "30000041505        3940.756667      4728.9080  1.639023e+07   \n",
              "30000041511       25292.087200     31615.1090  1.051938e+08   \n",
              "30000041516         588.959444      1060.1270  2.449575e+06   \n",
              "30000041517         653.597813      1045.7565  2.718417e+06   \n",
              "\n",
              "               cust_lifetime_value  \n",
              "Customer_Code                       \n",
              "30000040543           8.627488e+08  \n",
              "30000041505           7.750789e+10  \n",
              "30000041511           3.325713e+12  \n",
              "30000041516           2.596861e+09  \n",
              "30000041517           2.842802e+09  "
            ]
          },
          "execution_count": 31,
          "metadata": {},
          "output_type": "execute_result"
        }
      ]
    },
    {
      "cell_type": "code",
      "metadata": {
        "id": "V6j3v-c1SV3_"
      },
      "source": [
        ""
      ],
      "execution_count": null,
      "outputs": []
    }
  ]
}